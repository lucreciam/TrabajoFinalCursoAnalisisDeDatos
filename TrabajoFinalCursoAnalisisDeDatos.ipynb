{
  "nbformat": 4,
  "nbformat_minor": 0,
  "metadata": {
    "colab": {
      "provenance": [],
      "toc_visible": true
    },
    "kernelspec": {
      "name": "python3",
      "display_name": "Python 3"
    },
    "language_info": {
      "name": "python"
    }
  },
  "cells": [
    {
      "cell_type": "markdown",
      "source": [
        "# PROYECTO FINAL\n"
      ],
      "metadata": {
        "id": "gyICok2KNhQG"
      }
    },
    {
      "cell_type": "markdown",
      "source": [
        "##ANALISIS DE ARCHIVOS CSV\n",
        "- Para determinar el tratamiento que debemos dar a cada archivo realizamos un analisis general de cada uno:"
      ],
      "metadata": {
        "id": "W3GzyBH5McCT"
      }
    },
    {
      "cell_type": "markdown",
      "source": [
        "\n",
        "1.   Archivo ecommerce_products_dataset:\n",
        "  *   (\"products\") información sobre los productos disponibles.\n",
        "  *   Los encabezados de las columnas sugieren que incluye detalles como el nombre del producto, la categoría, la longitud y la descripción del producto, entre otros.\n",
        "  *   Este archivo se utilizará para identificar la categoría de productos más vendida.\n",
        "\n",
        "2.   Archivo ecommerce_orders_dataset:\n",
        "  *   (\"orders\") información sobre los pedidos realizados.\n",
        "  *   Los encabezados de las columnas incluyen detalles como el ID del pedido, el ID del cliente, el estado del pedido y fechas relacionadas con el proceso de pedido.\n",
        "  *   Este archivo se utilizará para calcular el número total de pedidos realizados y para analizar el comportamiento de compra de los clientes.\n",
        "\n",
        "3. Archivo ecommerce_order_payments_dataset:\n",
        "  *   (\"order_payments\") información sobre los pagos\n",
        "  *   Los encabezados de las columnas incluyen detalles como el método de pago, el valor del pago y el número de cuotas.\n",
        "  *   Este archivo se utilizará para calcular el promedio de valor de pago por pedido.\n",
        "\n",
        "4. Archivo ecommerce_customers_dataset:\n",
        "  *   (\"customers\") sugiere que contiene información sobre los clientes.\n",
        "  *   Los encabezados de las columnas incluyen detalles como el ID del cliente, el código postal, la ciudad y el estado del cliente.\n",
        "  *   Este archivo se utilizará para contar el número total de clientes únicos.\n",
        "\n",
        "5. Archivo ecommerce_order_items_dataset:\n",
        "*   (\"order_items\") información sobre los productos incluidos en cada pedido.\n",
        "*   Los encabezados de las columnas incluyen detalles como el ID del pedido, el ID del producto, el precio y el valor del envío.\n",
        "*   Este archivo se utilizará para calcular métricas relacionadas con las ventas y los productos.\n",
        "\n",
        "Al considerar estos factores, podemos determinar qué operaciones realizar en cada archivo para cumplir con los requisitos del trabajo."
      ],
      "metadata": {
        "id": "ismpme6AJ7p9"
      }
    },
    {
      "cell_type": "markdown",
      "source": [
        "##TRATAMIENTO DE ARCHIVOS CSV\n"
      ],
      "metadata": {
        "id": "5Sc_boWfM52k"
      }
    },
    {
      "cell_type": "markdown",
      "source": [
        "Importacion de la libreria"
      ],
      "metadata": {
        "id": "nM6rqBKCny0M"
      }
    },
    {
      "cell_type": "code",
      "source": [
        "!pip install pandas==2.2.2"
      ],
      "metadata": {
        "colab": {
          "base_uri": "https://localhost:8080/"
        },
        "id": "F9nz1L9AnwvS",
        "outputId": "a57c6148-17b9-436b-d209-7b577b1ffc63"
      },
      "execution_count": 8,
      "outputs": [
        {
          "output_type": "stream",
          "name": "stdout",
          "text": [
            "Requirement already satisfied: pandas==2.2.2 in /usr/local/lib/python3.10/dist-packages (2.2.2)\n",
            "Requirement already satisfied: numpy>=1.22.4 in /usr/local/lib/python3.10/dist-packages (from pandas==2.2.2) (1.25.2)\n",
            "Requirement already satisfied: python-dateutil>=2.8.2 in /usr/local/lib/python3.10/dist-packages (from pandas==2.2.2) (2.8.2)\n",
            "Requirement already satisfied: pytz>=2020.1 in /usr/local/lib/python3.10/dist-packages (from pandas==2.2.2) (2023.4)\n",
            "Requirement already satisfied: tzdata>=2022.7 in /usr/local/lib/python3.10/dist-packages (from pandas==2.2.2) (2024.1)\n",
            "Requirement already satisfied: six>=1.5 in /usr/local/lib/python3.10/dist-packages (from python-dateutil>=2.8.2->pandas==2.2.2) (1.16.0)\n"
          ]
        }
      ]
    },
    {
      "cell_type": "code",
      "source": [
        "import pandas as pd\n",
        "import os"
      ],
      "metadata": {
        "id": "rFt8CbRIq6_Z"
      },
      "execution_count": 9,
      "outputs": []
    },
    {
      "cell_type": "markdown",
      "source": [
        "Defino una funcion para la limpieza de los archivos"
      ],
      "metadata": {
        "id": "gqGywgww604k"
      }
    },
    {
      "cell_type": "code",
      "source": [
        "def limpiar_analizar_datos(df):\n",
        "    \"\"\"\n",
        "    Esta función carga un DataFrame, realiza tareas de limpieza y análisis, y devuelve el DataFrame limpio.\n",
        "\n",
        "    Parámetros:\n",
        "        df (DataFrame): El DataFrame que se va a limpiar y analizar.\n",
        "\n",
        "    Retorna:\n",
        "        DataFrame: El DataFrame limpio.\n",
        "    \"\"\"\n",
        "    # Tamaño del DataFrame\n",
        "    print(\"Tamaño del DataFrame:\")\n",
        "    print(df.shape)\n",
        "    print(\"----------------------------------------\")\n",
        "\n",
        "    # Análisis de Tipos de Datos\n",
        "    print(\"Análisis de Tipos de Datos:\")\n",
        "    print(df.info())\n",
        "    print(\"----------------------------------------\")\n",
        "\n",
        "    # Recuento de Valores Nulos\n",
        "    print(\"Recuento de Valores Nulos:\")\n",
        "    print(df.isnull().sum())\n",
        "    print(\"----------------------------------------\")\n",
        "\n",
        "    # Recuento de Valores Duplicados\n",
        "    print(\"Recuento de Valores Duplicados:\")\n",
        "    print(df.duplicated().sum())\n",
        "    print(\"----------------------------------------\")\n",
        "\n",
        "    # Análisis de Estadísticas Descriptivas (para columnas numéricas)\n",
        "    print(\"Estadísticas Descriptivas:\")\n",
        "    print(df.describe())\n",
        "    print(\"----------------------------------------\")\n",
        "\n",
        "    return df"
      ],
      "metadata": {
        "id": "xTCSV_nV7P1q"
      },
      "execution_count": 27,
      "outputs": []
    },
    {
      "cell_type": "markdown",
      "source": [
        "### ORDERS\n",
        "\n"
      ],
      "metadata": {
        "id": "n24kejUqNWRH"
      }
    },
    {
      "cell_type": "code",
      "source": [
        "#Importar dataset como Dataframe y visualizar los 5 primeros datos del dataset\n",
        "df_orders = pd.read_csv(\"https://raw.githubusercontent.com/lucreciam/TrabajoFinalCursoAnalisisDeDatos/main/ecommerce_orders_dataset.csv\")\n",
        "df_orders.head()\n"
      ],
      "metadata": {
        "colab": {
          "base_uri": "https://localhost:8080/",
          "height": 226
        },
        "id": "DbBx6Hvbtmcy",
        "outputId": "e25238c7-0a39-4057-d629-4b7d3ce7fcd8"
      },
      "execution_count": 49,
      "outputs": [
        {
          "output_type": "execute_result",
          "data": {
            "text/plain": [
              "                           order_id                       customer_id  \\\n",
              "0  e481f51cbdc54678b7cc49136f2d6af7  9ef432eb6251297304e76186b10a928d   \n",
              "1  53cdb2fc8bc7dce0b6741e2150273451  b0830fb4747a6c6d20dea0b8c802d7ef   \n",
              "2  47770eb9100c2d0c44946d9cf07ec65d  41ce2a54c0b03bf3443c3d931a367089   \n",
              "3  949d5b44dbf5de918fe9c16f97b45f8a  f88197465ea7920adcdbec7375364d82   \n",
              "4  ad21c59c0840e6cb83a9ceb5573f8159  8ab97904e6daea8866dbdbc4fb7aad2c   \n",
              "\n",
              "  order_status order_purchase_timestamp    order_approved_at  \\\n",
              "0    delivered      2017-10-02 10:56:33  2017-10-02 11:07:15   \n",
              "1    delivered      2018-07-24 20:41:37  2018-07-26 03:24:27   \n",
              "2    delivered      2018-08-08 08:38:49  2018-08-08 08:55:23   \n",
              "3    delivered      2017-11-18 19:28:06  2017-11-18 19:45:59   \n",
              "4    delivered      2018-02-13 21:18:39  2018-02-13 22:20:29   \n",
              "\n",
              "  order_delivered_carrier_date order_delivered_customer_date  \\\n",
              "0          2017-10-04 19:55:00           2017-10-10 21:25:13   \n",
              "1          2018-07-26 14:31:00           2018-08-07 15:27:45   \n",
              "2          2018-08-08 13:50:00           2018-08-17 18:06:29   \n",
              "3          2017-11-22 13:39:59           2017-12-02 00:28:42   \n",
              "4          2018-02-14 19:46:34           2018-02-16 18:17:02   \n",
              "\n",
              "  order_estimated_delivery_date  \n",
              "0           2017-10-18 00:00:00  \n",
              "1           2018-08-13 00:00:00  \n",
              "2           2018-09-04 00:00:00  \n",
              "3           2017-12-15 00:00:00  \n",
              "4           2018-02-26 00:00:00  "
            ],
            "text/html": [
              "\n",
              "  <div id=\"df-d6a563e4-8071-47bf-ae6e-0d2bd278b804\" class=\"colab-df-container\">\n",
              "    <div>\n",
              "<style scoped>\n",
              "    .dataframe tbody tr th:only-of-type {\n",
              "        vertical-align: middle;\n",
              "    }\n",
              "\n",
              "    .dataframe tbody tr th {\n",
              "        vertical-align: top;\n",
              "    }\n",
              "\n",
              "    .dataframe thead th {\n",
              "        text-align: right;\n",
              "    }\n",
              "</style>\n",
              "<table border=\"1\" class=\"dataframe\">\n",
              "  <thead>\n",
              "    <tr style=\"text-align: right;\">\n",
              "      <th></th>\n",
              "      <th>order_id</th>\n",
              "      <th>customer_id</th>\n",
              "      <th>order_status</th>\n",
              "      <th>order_purchase_timestamp</th>\n",
              "      <th>order_approved_at</th>\n",
              "      <th>order_delivered_carrier_date</th>\n",
              "      <th>order_delivered_customer_date</th>\n",
              "      <th>order_estimated_delivery_date</th>\n",
              "    </tr>\n",
              "  </thead>\n",
              "  <tbody>\n",
              "    <tr>\n",
              "      <th>0</th>\n",
              "      <td>e481f51cbdc54678b7cc49136f2d6af7</td>\n",
              "      <td>9ef432eb6251297304e76186b10a928d</td>\n",
              "      <td>delivered</td>\n",
              "      <td>2017-10-02 10:56:33</td>\n",
              "      <td>2017-10-02 11:07:15</td>\n",
              "      <td>2017-10-04 19:55:00</td>\n",
              "      <td>2017-10-10 21:25:13</td>\n",
              "      <td>2017-10-18 00:00:00</td>\n",
              "    </tr>\n",
              "    <tr>\n",
              "      <th>1</th>\n",
              "      <td>53cdb2fc8bc7dce0b6741e2150273451</td>\n",
              "      <td>b0830fb4747a6c6d20dea0b8c802d7ef</td>\n",
              "      <td>delivered</td>\n",
              "      <td>2018-07-24 20:41:37</td>\n",
              "      <td>2018-07-26 03:24:27</td>\n",
              "      <td>2018-07-26 14:31:00</td>\n",
              "      <td>2018-08-07 15:27:45</td>\n",
              "      <td>2018-08-13 00:00:00</td>\n",
              "    </tr>\n",
              "    <tr>\n",
              "      <th>2</th>\n",
              "      <td>47770eb9100c2d0c44946d9cf07ec65d</td>\n",
              "      <td>41ce2a54c0b03bf3443c3d931a367089</td>\n",
              "      <td>delivered</td>\n",
              "      <td>2018-08-08 08:38:49</td>\n",
              "      <td>2018-08-08 08:55:23</td>\n",
              "      <td>2018-08-08 13:50:00</td>\n",
              "      <td>2018-08-17 18:06:29</td>\n",
              "      <td>2018-09-04 00:00:00</td>\n",
              "    </tr>\n",
              "    <tr>\n",
              "      <th>3</th>\n",
              "      <td>949d5b44dbf5de918fe9c16f97b45f8a</td>\n",
              "      <td>f88197465ea7920adcdbec7375364d82</td>\n",
              "      <td>delivered</td>\n",
              "      <td>2017-11-18 19:28:06</td>\n",
              "      <td>2017-11-18 19:45:59</td>\n",
              "      <td>2017-11-22 13:39:59</td>\n",
              "      <td>2017-12-02 00:28:42</td>\n",
              "      <td>2017-12-15 00:00:00</td>\n",
              "    </tr>\n",
              "    <tr>\n",
              "      <th>4</th>\n",
              "      <td>ad21c59c0840e6cb83a9ceb5573f8159</td>\n",
              "      <td>8ab97904e6daea8866dbdbc4fb7aad2c</td>\n",
              "      <td>delivered</td>\n",
              "      <td>2018-02-13 21:18:39</td>\n",
              "      <td>2018-02-13 22:20:29</td>\n",
              "      <td>2018-02-14 19:46:34</td>\n",
              "      <td>2018-02-16 18:17:02</td>\n",
              "      <td>2018-02-26 00:00:00</td>\n",
              "    </tr>\n",
              "  </tbody>\n",
              "</table>\n",
              "</div>\n",
              "    <div class=\"colab-df-buttons\">\n",
              "\n",
              "  <div class=\"colab-df-container\">\n",
              "    <button class=\"colab-df-convert\" onclick=\"convertToInteractive('df-d6a563e4-8071-47bf-ae6e-0d2bd278b804')\"\n",
              "            title=\"Convert this dataframe to an interactive table.\"\n",
              "            style=\"display:none;\">\n",
              "\n",
              "  <svg xmlns=\"http://www.w3.org/2000/svg\" height=\"24px\" viewBox=\"0 -960 960 960\">\n",
              "    <path d=\"M120-120v-720h720v720H120Zm60-500h600v-160H180v160Zm220 220h160v-160H400v160Zm0 220h160v-160H400v160ZM180-400h160v-160H180v160Zm440 0h160v-160H620v160ZM180-180h160v-160H180v160Zm440 0h160v-160H620v160Z\"/>\n",
              "  </svg>\n",
              "    </button>\n",
              "\n",
              "  <style>\n",
              "    .colab-df-container {\n",
              "      display:flex;\n",
              "      gap: 12px;\n",
              "    }\n",
              "\n",
              "    .colab-df-convert {\n",
              "      background-color: #E8F0FE;\n",
              "      border: none;\n",
              "      border-radius: 50%;\n",
              "      cursor: pointer;\n",
              "      display: none;\n",
              "      fill: #1967D2;\n",
              "      height: 32px;\n",
              "      padding: 0 0 0 0;\n",
              "      width: 32px;\n",
              "    }\n",
              "\n",
              "    .colab-df-convert:hover {\n",
              "      background-color: #E2EBFA;\n",
              "      box-shadow: 0px 1px 2px rgba(60, 64, 67, 0.3), 0px 1px 3px 1px rgba(60, 64, 67, 0.15);\n",
              "      fill: #174EA6;\n",
              "    }\n",
              "\n",
              "    .colab-df-buttons div {\n",
              "      margin-bottom: 4px;\n",
              "    }\n",
              "\n",
              "    [theme=dark] .colab-df-convert {\n",
              "      background-color: #3B4455;\n",
              "      fill: #D2E3FC;\n",
              "    }\n",
              "\n",
              "    [theme=dark] .colab-df-convert:hover {\n",
              "      background-color: #434B5C;\n",
              "      box-shadow: 0px 1px 3px 1px rgba(0, 0, 0, 0.15);\n",
              "      filter: drop-shadow(0px 1px 2px rgba(0, 0, 0, 0.3));\n",
              "      fill: #FFFFFF;\n",
              "    }\n",
              "  </style>\n",
              "\n",
              "    <script>\n",
              "      const buttonEl =\n",
              "        document.querySelector('#df-d6a563e4-8071-47bf-ae6e-0d2bd278b804 button.colab-df-convert');\n",
              "      buttonEl.style.display =\n",
              "        google.colab.kernel.accessAllowed ? 'block' : 'none';\n",
              "\n",
              "      async function convertToInteractive(key) {\n",
              "        const element = document.querySelector('#df-d6a563e4-8071-47bf-ae6e-0d2bd278b804');\n",
              "        const dataTable =\n",
              "          await google.colab.kernel.invokeFunction('convertToInteractive',\n",
              "                                                    [key], {});\n",
              "        if (!dataTable) return;\n",
              "\n",
              "        const docLinkHtml = 'Like what you see? Visit the ' +\n",
              "          '<a target=\"_blank\" href=https://colab.research.google.com/notebooks/data_table.ipynb>data table notebook</a>'\n",
              "          + ' to learn more about interactive tables.';\n",
              "        element.innerHTML = '';\n",
              "        dataTable['output_type'] = 'display_data';\n",
              "        await google.colab.output.renderOutput(dataTable, element);\n",
              "        const docLink = document.createElement('div');\n",
              "        docLink.innerHTML = docLinkHtml;\n",
              "        element.appendChild(docLink);\n",
              "      }\n",
              "    </script>\n",
              "  </div>\n",
              "\n",
              "\n",
              "<div id=\"df-765b903a-12ee-485d-8253-c38a7d607812\">\n",
              "  <button class=\"colab-df-quickchart\" onclick=\"quickchart('df-765b903a-12ee-485d-8253-c38a7d607812')\"\n",
              "            title=\"Suggest charts\"\n",
              "            style=\"display:none;\">\n",
              "\n",
              "<svg xmlns=\"http://www.w3.org/2000/svg\" height=\"24px\"viewBox=\"0 0 24 24\"\n",
              "     width=\"24px\">\n",
              "    <g>\n",
              "        <path d=\"M19 3H5c-1.1 0-2 .9-2 2v14c0 1.1.9 2 2 2h14c1.1 0 2-.9 2-2V5c0-1.1-.9-2-2-2zM9 17H7v-7h2v7zm4 0h-2V7h2v10zm4 0h-2v-4h2v4z\"/>\n",
              "    </g>\n",
              "</svg>\n",
              "  </button>\n",
              "\n",
              "<style>\n",
              "  .colab-df-quickchart {\n",
              "      --bg-color: #E8F0FE;\n",
              "      --fill-color: #1967D2;\n",
              "      --hover-bg-color: #E2EBFA;\n",
              "      --hover-fill-color: #174EA6;\n",
              "      --disabled-fill-color: #AAA;\n",
              "      --disabled-bg-color: #DDD;\n",
              "  }\n",
              "\n",
              "  [theme=dark] .colab-df-quickchart {\n",
              "      --bg-color: #3B4455;\n",
              "      --fill-color: #D2E3FC;\n",
              "      --hover-bg-color: #434B5C;\n",
              "      --hover-fill-color: #FFFFFF;\n",
              "      --disabled-bg-color: #3B4455;\n",
              "      --disabled-fill-color: #666;\n",
              "  }\n",
              "\n",
              "  .colab-df-quickchart {\n",
              "    background-color: var(--bg-color);\n",
              "    border: none;\n",
              "    border-radius: 50%;\n",
              "    cursor: pointer;\n",
              "    display: none;\n",
              "    fill: var(--fill-color);\n",
              "    height: 32px;\n",
              "    padding: 0;\n",
              "    width: 32px;\n",
              "  }\n",
              "\n",
              "  .colab-df-quickchart:hover {\n",
              "    background-color: var(--hover-bg-color);\n",
              "    box-shadow: 0 1px 2px rgba(60, 64, 67, 0.3), 0 1px 3px 1px rgba(60, 64, 67, 0.15);\n",
              "    fill: var(--button-hover-fill-color);\n",
              "  }\n",
              "\n",
              "  .colab-df-quickchart-complete:disabled,\n",
              "  .colab-df-quickchart-complete:disabled:hover {\n",
              "    background-color: var(--disabled-bg-color);\n",
              "    fill: var(--disabled-fill-color);\n",
              "    box-shadow: none;\n",
              "  }\n",
              "\n",
              "  .colab-df-spinner {\n",
              "    border: 2px solid var(--fill-color);\n",
              "    border-color: transparent;\n",
              "    border-bottom-color: var(--fill-color);\n",
              "    animation:\n",
              "      spin 1s steps(1) infinite;\n",
              "  }\n",
              "\n",
              "  @keyframes spin {\n",
              "    0% {\n",
              "      border-color: transparent;\n",
              "      border-bottom-color: var(--fill-color);\n",
              "      border-left-color: var(--fill-color);\n",
              "    }\n",
              "    20% {\n",
              "      border-color: transparent;\n",
              "      border-left-color: var(--fill-color);\n",
              "      border-top-color: var(--fill-color);\n",
              "    }\n",
              "    30% {\n",
              "      border-color: transparent;\n",
              "      border-left-color: var(--fill-color);\n",
              "      border-top-color: var(--fill-color);\n",
              "      border-right-color: var(--fill-color);\n",
              "    }\n",
              "    40% {\n",
              "      border-color: transparent;\n",
              "      border-right-color: var(--fill-color);\n",
              "      border-top-color: var(--fill-color);\n",
              "    }\n",
              "    60% {\n",
              "      border-color: transparent;\n",
              "      border-right-color: var(--fill-color);\n",
              "    }\n",
              "    80% {\n",
              "      border-color: transparent;\n",
              "      border-right-color: var(--fill-color);\n",
              "      border-bottom-color: var(--fill-color);\n",
              "    }\n",
              "    90% {\n",
              "      border-color: transparent;\n",
              "      border-bottom-color: var(--fill-color);\n",
              "    }\n",
              "  }\n",
              "</style>\n",
              "\n",
              "  <script>\n",
              "    async function quickchart(key) {\n",
              "      const quickchartButtonEl =\n",
              "        document.querySelector('#' + key + ' button');\n",
              "      quickchartButtonEl.disabled = true;  // To prevent multiple clicks.\n",
              "      quickchartButtonEl.classList.add('colab-df-spinner');\n",
              "      try {\n",
              "        const charts = await google.colab.kernel.invokeFunction(\n",
              "            'suggestCharts', [key], {});\n",
              "      } catch (error) {\n",
              "        console.error('Error during call to suggestCharts:', error);\n",
              "      }\n",
              "      quickchartButtonEl.classList.remove('colab-df-spinner');\n",
              "      quickchartButtonEl.classList.add('colab-df-quickchart-complete');\n",
              "    }\n",
              "    (() => {\n",
              "      let quickchartButtonEl =\n",
              "        document.querySelector('#df-765b903a-12ee-485d-8253-c38a7d607812 button');\n",
              "      quickchartButtonEl.style.display =\n",
              "        google.colab.kernel.accessAllowed ? 'block' : 'none';\n",
              "    })();\n",
              "  </script>\n",
              "</div>\n",
              "\n",
              "    </div>\n",
              "  </div>\n"
            ],
            "application/vnd.google.colaboratory.intrinsic+json": {
              "type": "dataframe",
              "variable_name": "df_orders",
              "summary": "{\n  \"name\": \"df_orders\",\n  \"rows\": 99441,\n  \"fields\": [\n    {\n      \"column\": \"order_id\",\n      \"properties\": {\n        \"dtype\": \"string\",\n        \"num_unique_values\": 99441,\n        \"samples\": [\n          \"b9a6c5f5df52c7226ac85aee7524c27f\",\n          \"261e71d2349c713eafa9f3df5972b95d\",\n          \"67b50899f52995848c427e361e10dde3\"\n        ],\n        \"semantic_type\": \"\",\n        \"description\": \"\"\n      }\n    },\n    {\n      \"column\": \"customer_id\",\n      \"properties\": {\n        \"dtype\": \"string\",\n        \"num_unique_values\": 99441,\n        \"samples\": [\n          \"f160aaf480efdfa7268f0fa535f73e76\",\n          \"d6708bbbd2d419475869a84e41f620a1\",\n          \"1b353c00c71689afba44554e43cc5a76\"\n        ],\n        \"semantic_type\": \"\",\n        \"description\": \"\"\n      }\n    },\n    {\n      \"column\": \"order_status\",\n      \"properties\": {\n        \"dtype\": \"category\",\n        \"num_unique_values\": 8,\n        \"samples\": [\n          \"invoiced\",\n          \"canceled\",\n          \"delivered\"\n        ],\n        \"semantic_type\": \"\",\n        \"description\": \"\"\n      }\n    },\n    {\n      \"column\": \"order_purchase_timestamp\",\n      \"properties\": {\n        \"dtype\": \"object\",\n        \"num_unique_values\": 98875,\n        \"samples\": [\n          \"2017-12-03 02:01:18\",\n          \"2018-05-15 22:52:30\",\n          \"2018-08-22 21:56:07\"\n        ],\n        \"semantic_type\": \"\",\n        \"description\": \"\"\n      }\n    },\n    {\n      \"column\": \"order_approved_at\",\n      \"properties\": {\n        \"dtype\": \"object\",\n        \"num_unique_values\": 90733,\n        \"samples\": [\n          \"2017-05-17 03:55:26\",\n          \"2018-03-04 10:55:33\",\n          \"2017-10-05 02:49:39\"\n        ],\n        \"semantic_type\": \"\",\n        \"description\": \"\"\n      }\n    },\n    {\n      \"column\": \"order_delivered_carrier_date\",\n      \"properties\": {\n        \"dtype\": \"object\",\n        \"num_unique_values\": 81018,\n        \"samples\": [\n          \"2018-04-24 14:38:40\",\n          \"2017-03-18 10:37:00\",\n          \"2017-12-29 17:22:42\"\n        ],\n        \"semantic_type\": \"\",\n        \"description\": \"\"\n      }\n    },\n    {\n      \"column\": \"order_delivered_customer_date\",\n      \"properties\": {\n        \"dtype\": \"object\",\n        \"num_unique_values\": 95664,\n        \"samples\": [\n          \"2017-03-27 12:43:40\",\n          \"2018-02-23 16:39:23\",\n          \"2017-10-09 22:16:39\"\n        ],\n        \"semantic_type\": \"\",\n        \"description\": \"\"\n      }\n    },\n    {\n      \"column\": \"order_estimated_delivery_date\",\n      \"properties\": {\n        \"dtype\": \"object\",\n        \"num_unique_values\": 459,\n        \"samples\": [\n          \"2018-07-27 00:00:00\",\n          \"2018-08-06 00:00:00\",\n          \"2017-09-13 00:00:00\"\n        ],\n        \"semantic_type\": \"\",\n        \"description\": \"\"\n      }\n    }\n  ]\n}"
            }
          },
          "metadata": {},
          "execution_count": 49
        }
      ]
    },
    {
      "cell_type": "code",
      "source": [
        "# Llamar a la función para limpiar y analizar los datos\n",
        "df_orders = limpiar_analizar_datos(df_orders)"
      ],
      "metadata": {
        "colab": {
          "base_uri": "https://localhost:8080/"
        },
        "id": "jW8V96CM7ZAG",
        "outputId": "71c6c279-a6d7-4e83-94dd-ecf87a1a8ac3"
      },
      "execution_count": 50,
      "outputs": [
        {
          "output_type": "stream",
          "name": "stdout",
          "text": [
            "Tamaño del DataFrame:\n",
            "(99441, 8)\n",
            "----------------------------------------\n",
            "Análisis de Tipos de Datos:\n",
            "<class 'pandas.core.frame.DataFrame'>\n",
            "RangeIndex: 99441 entries, 0 to 99440\n",
            "Data columns (total 8 columns):\n",
            " #   Column                         Non-Null Count  Dtype \n",
            "---  ------                         --------------  ----- \n",
            " 0   order_id                       99441 non-null  object\n",
            " 1   customer_id                    99441 non-null  object\n",
            " 2   order_status                   99441 non-null  object\n",
            " 3   order_purchase_timestamp       99441 non-null  object\n",
            " 4   order_approved_at              99281 non-null  object\n",
            " 5   order_delivered_carrier_date   97658 non-null  object\n",
            " 6   order_delivered_customer_date  96476 non-null  object\n",
            " 7   order_estimated_delivery_date  99441 non-null  object\n",
            "dtypes: object(8)\n",
            "memory usage: 6.1+ MB\n",
            "None\n",
            "----------------------------------------\n",
            "Recuento de Valores Nulos:\n",
            "order_id                            0\n",
            "customer_id                         0\n",
            "order_status                        0\n",
            "order_purchase_timestamp            0\n",
            "order_approved_at                 160\n",
            "order_delivered_carrier_date     1783\n",
            "order_delivered_customer_date    2965\n",
            "order_estimated_delivery_date       0\n",
            "dtype: int64\n",
            "----------------------------------------\n",
            "Recuento de Valores Duplicados:\n",
            "0\n",
            "----------------------------------------\n",
            "Estadísticas Descriptivas:\n",
            "                                order_id                       customer_id  \\\n",
            "count                              99441                             99441   \n",
            "unique                             99441                             99441   \n",
            "top     e481f51cbdc54678b7cc49136f2d6af7  9ef432eb6251297304e76186b10a928d   \n",
            "freq                                   1                                 1   \n",
            "\n",
            "       order_status order_purchase_timestamp    order_approved_at  \\\n",
            "count         99441                    99441                99281   \n",
            "unique            8                    98875                90733   \n",
            "top       delivered      2018-04-11 10:48:14  2018-02-27 04:31:10   \n",
            "freq          96478                        3                    9   \n",
            "\n",
            "       order_delivered_carrier_date order_delivered_customer_date  \\\n",
            "count                         97658                         96476   \n",
            "unique                        81018                         95664   \n",
            "top             2018-05-09 15:48:00           2018-05-08 23:38:46   \n",
            "freq                             47                             3   \n",
            "\n",
            "       order_estimated_delivery_date  \n",
            "count                          99441  \n",
            "unique                           459  \n",
            "top              2017-12-20 00:00:00  \n",
            "freq                             522  \n",
            "----------------------------------------\n"
          ]
        }
      ]
    },
    {
      "cell_type": "markdown",
      "source": [
        "### CUSTOMERS\n"
      ],
      "metadata": {
        "id": "VE_8AN649zdj"
      }
    },
    {
      "cell_type": "code",
      "source": [
        "#Importar dataset como Dataframe y visualizar los 5 primeros datos del dataset\n",
        "df_customers = pd.read_csv(\"https://raw.githubusercontent.com/lucreciam/TrabajoFinalCursoAnalisisDeDatos/main/ecommerce_customers_dataset.csv\")\n",
        "df_customers.head()"
      ],
      "metadata": {
        "colab": {
          "base_uri": "https://localhost:8080/",
          "height": 206
        },
        "id": "CnikOscY96Oh",
        "outputId": "9015e645-7318-42af-cef4-f08fec52bca8"
      },
      "execution_count": 51,
      "outputs": [
        {
          "output_type": "execute_result",
          "data": {
            "text/plain": [
              "                        customer_id                customer_unique_id  \\\n",
              "0  06b8999e2fba1a1fbc88172c00ba8bc7  861eff4711a542e4b93843c6dd7febb0   \n",
              "1  18955e83d337fd6b2def6b18a428ac77  290c77bc529b7ac935b93aa66c333dc3   \n",
              "2  4e7b3e00288586ebd08712fdd0374a03  060e732b5b29e8181a18229c7b0b2b5e   \n",
              "3  b2b6027bc5c5109e529d4dc6358b12c3  259dac757896d24d7702b9acbbff3f3c   \n",
              "4  4f2d8ab171c80ec8364f7c12e35b23ad  345ecd01c38d18a9036ed96c73b8d066   \n",
              "\n",
              "   customer_zip_code_prefix          customer_city customer_state  \n",
              "0                     14409                 franca             SP  \n",
              "1                      9790  sao bernardo do campo             SP  \n",
              "2                      1151              sao paulo             SP  \n",
              "3                      8775        mogi das cruzes             SP  \n",
              "4                     13056               campinas             SP  "
            ],
            "text/html": [
              "\n",
              "  <div id=\"df-31bb4db2-93cf-42e7-91f0-89e3f2908299\" class=\"colab-df-container\">\n",
              "    <div>\n",
              "<style scoped>\n",
              "    .dataframe tbody tr th:only-of-type {\n",
              "        vertical-align: middle;\n",
              "    }\n",
              "\n",
              "    .dataframe tbody tr th {\n",
              "        vertical-align: top;\n",
              "    }\n",
              "\n",
              "    .dataframe thead th {\n",
              "        text-align: right;\n",
              "    }\n",
              "</style>\n",
              "<table border=\"1\" class=\"dataframe\">\n",
              "  <thead>\n",
              "    <tr style=\"text-align: right;\">\n",
              "      <th></th>\n",
              "      <th>customer_id</th>\n",
              "      <th>customer_unique_id</th>\n",
              "      <th>customer_zip_code_prefix</th>\n",
              "      <th>customer_city</th>\n",
              "      <th>customer_state</th>\n",
              "    </tr>\n",
              "  </thead>\n",
              "  <tbody>\n",
              "    <tr>\n",
              "      <th>0</th>\n",
              "      <td>06b8999e2fba1a1fbc88172c00ba8bc7</td>\n",
              "      <td>861eff4711a542e4b93843c6dd7febb0</td>\n",
              "      <td>14409</td>\n",
              "      <td>franca</td>\n",
              "      <td>SP</td>\n",
              "    </tr>\n",
              "    <tr>\n",
              "      <th>1</th>\n",
              "      <td>18955e83d337fd6b2def6b18a428ac77</td>\n",
              "      <td>290c77bc529b7ac935b93aa66c333dc3</td>\n",
              "      <td>9790</td>\n",
              "      <td>sao bernardo do campo</td>\n",
              "      <td>SP</td>\n",
              "    </tr>\n",
              "    <tr>\n",
              "      <th>2</th>\n",
              "      <td>4e7b3e00288586ebd08712fdd0374a03</td>\n",
              "      <td>060e732b5b29e8181a18229c7b0b2b5e</td>\n",
              "      <td>1151</td>\n",
              "      <td>sao paulo</td>\n",
              "      <td>SP</td>\n",
              "    </tr>\n",
              "    <tr>\n",
              "      <th>3</th>\n",
              "      <td>b2b6027bc5c5109e529d4dc6358b12c3</td>\n",
              "      <td>259dac757896d24d7702b9acbbff3f3c</td>\n",
              "      <td>8775</td>\n",
              "      <td>mogi das cruzes</td>\n",
              "      <td>SP</td>\n",
              "    </tr>\n",
              "    <tr>\n",
              "      <th>4</th>\n",
              "      <td>4f2d8ab171c80ec8364f7c12e35b23ad</td>\n",
              "      <td>345ecd01c38d18a9036ed96c73b8d066</td>\n",
              "      <td>13056</td>\n",
              "      <td>campinas</td>\n",
              "      <td>SP</td>\n",
              "    </tr>\n",
              "  </tbody>\n",
              "</table>\n",
              "</div>\n",
              "    <div class=\"colab-df-buttons\">\n",
              "\n",
              "  <div class=\"colab-df-container\">\n",
              "    <button class=\"colab-df-convert\" onclick=\"convertToInteractive('df-31bb4db2-93cf-42e7-91f0-89e3f2908299')\"\n",
              "            title=\"Convert this dataframe to an interactive table.\"\n",
              "            style=\"display:none;\">\n",
              "\n",
              "  <svg xmlns=\"http://www.w3.org/2000/svg\" height=\"24px\" viewBox=\"0 -960 960 960\">\n",
              "    <path d=\"M120-120v-720h720v720H120Zm60-500h600v-160H180v160Zm220 220h160v-160H400v160Zm0 220h160v-160H400v160ZM180-400h160v-160H180v160Zm440 0h160v-160H620v160ZM180-180h160v-160H180v160Zm440 0h160v-160H620v160Z\"/>\n",
              "  </svg>\n",
              "    </button>\n",
              "\n",
              "  <style>\n",
              "    .colab-df-container {\n",
              "      display:flex;\n",
              "      gap: 12px;\n",
              "    }\n",
              "\n",
              "    .colab-df-convert {\n",
              "      background-color: #E8F0FE;\n",
              "      border: none;\n",
              "      border-radius: 50%;\n",
              "      cursor: pointer;\n",
              "      display: none;\n",
              "      fill: #1967D2;\n",
              "      height: 32px;\n",
              "      padding: 0 0 0 0;\n",
              "      width: 32px;\n",
              "    }\n",
              "\n",
              "    .colab-df-convert:hover {\n",
              "      background-color: #E2EBFA;\n",
              "      box-shadow: 0px 1px 2px rgba(60, 64, 67, 0.3), 0px 1px 3px 1px rgba(60, 64, 67, 0.15);\n",
              "      fill: #174EA6;\n",
              "    }\n",
              "\n",
              "    .colab-df-buttons div {\n",
              "      margin-bottom: 4px;\n",
              "    }\n",
              "\n",
              "    [theme=dark] .colab-df-convert {\n",
              "      background-color: #3B4455;\n",
              "      fill: #D2E3FC;\n",
              "    }\n",
              "\n",
              "    [theme=dark] .colab-df-convert:hover {\n",
              "      background-color: #434B5C;\n",
              "      box-shadow: 0px 1px 3px 1px rgba(0, 0, 0, 0.15);\n",
              "      filter: drop-shadow(0px 1px 2px rgba(0, 0, 0, 0.3));\n",
              "      fill: #FFFFFF;\n",
              "    }\n",
              "  </style>\n",
              "\n",
              "    <script>\n",
              "      const buttonEl =\n",
              "        document.querySelector('#df-31bb4db2-93cf-42e7-91f0-89e3f2908299 button.colab-df-convert');\n",
              "      buttonEl.style.display =\n",
              "        google.colab.kernel.accessAllowed ? 'block' : 'none';\n",
              "\n",
              "      async function convertToInteractive(key) {\n",
              "        const element = document.querySelector('#df-31bb4db2-93cf-42e7-91f0-89e3f2908299');\n",
              "        const dataTable =\n",
              "          await google.colab.kernel.invokeFunction('convertToInteractive',\n",
              "                                                    [key], {});\n",
              "        if (!dataTable) return;\n",
              "\n",
              "        const docLinkHtml = 'Like what you see? Visit the ' +\n",
              "          '<a target=\"_blank\" href=https://colab.research.google.com/notebooks/data_table.ipynb>data table notebook</a>'\n",
              "          + ' to learn more about interactive tables.';\n",
              "        element.innerHTML = '';\n",
              "        dataTable['output_type'] = 'display_data';\n",
              "        await google.colab.output.renderOutput(dataTable, element);\n",
              "        const docLink = document.createElement('div');\n",
              "        docLink.innerHTML = docLinkHtml;\n",
              "        element.appendChild(docLink);\n",
              "      }\n",
              "    </script>\n",
              "  </div>\n",
              "\n",
              "\n",
              "<div id=\"df-37d7a8ab-84ae-4e83-b484-8a40e0351f70\">\n",
              "  <button class=\"colab-df-quickchart\" onclick=\"quickchart('df-37d7a8ab-84ae-4e83-b484-8a40e0351f70')\"\n",
              "            title=\"Suggest charts\"\n",
              "            style=\"display:none;\">\n",
              "\n",
              "<svg xmlns=\"http://www.w3.org/2000/svg\" height=\"24px\"viewBox=\"0 0 24 24\"\n",
              "     width=\"24px\">\n",
              "    <g>\n",
              "        <path d=\"M19 3H5c-1.1 0-2 .9-2 2v14c0 1.1.9 2 2 2h14c1.1 0 2-.9 2-2V5c0-1.1-.9-2-2-2zM9 17H7v-7h2v7zm4 0h-2V7h2v10zm4 0h-2v-4h2v4z\"/>\n",
              "    </g>\n",
              "</svg>\n",
              "  </button>\n",
              "\n",
              "<style>\n",
              "  .colab-df-quickchart {\n",
              "      --bg-color: #E8F0FE;\n",
              "      --fill-color: #1967D2;\n",
              "      --hover-bg-color: #E2EBFA;\n",
              "      --hover-fill-color: #174EA6;\n",
              "      --disabled-fill-color: #AAA;\n",
              "      --disabled-bg-color: #DDD;\n",
              "  }\n",
              "\n",
              "  [theme=dark] .colab-df-quickchart {\n",
              "      --bg-color: #3B4455;\n",
              "      --fill-color: #D2E3FC;\n",
              "      --hover-bg-color: #434B5C;\n",
              "      --hover-fill-color: #FFFFFF;\n",
              "      --disabled-bg-color: #3B4455;\n",
              "      --disabled-fill-color: #666;\n",
              "  }\n",
              "\n",
              "  .colab-df-quickchart {\n",
              "    background-color: var(--bg-color);\n",
              "    border: none;\n",
              "    border-radius: 50%;\n",
              "    cursor: pointer;\n",
              "    display: none;\n",
              "    fill: var(--fill-color);\n",
              "    height: 32px;\n",
              "    padding: 0;\n",
              "    width: 32px;\n",
              "  }\n",
              "\n",
              "  .colab-df-quickchart:hover {\n",
              "    background-color: var(--hover-bg-color);\n",
              "    box-shadow: 0 1px 2px rgba(60, 64, 67, 0.3), 0 1px 3px 1px rgba(60, 64, 67, 0.15);\n",
              "    fill: var(--button-hover-fill-color);\n",
              "  }\n",
              "\n",
              "  .colab-df-quickchart-complete:disabled,\n",
              "  .colab-df-quickchart-complete:disabled:hover {\n",
              "    background-color: var(--disabled-bg-color);\n",
              "    fill: var(--disabled-fill-color);\n",
              "    box-shadow: none;\n",
              "  }\n",
              "\n",
              "  .colab-df-spinner {\n",
              "    border: 2px solid var(--fill-color);\n",
              "    border-color: transparent;\n",
              "    border-bottom-color: var(--fill-color);\n",
              "    animation:\n",
              "      spin 1s steps(1) infinite;\n",
              "  }\n",
              "\n",
              "  @keyframes spin {\n",
              "    0% {\n",
              "      border-color: transparent;\n",
              "      border-bottom-color: var(--fill-color);\n",
              "      border-left-color: var(--fill-color);\n",
              "    }\n",
              "    20% {\n",
              "      border-color: transparent;\n",
              "      border-left-color: var(--fill-color);\n",
              "      border-top-color: var(--fill-color);\n",
              "    }\n",
              "    30% {\n",
              "      border-color: transparent;\n",
              "      border-left-color: var(--fill-color);\n",
              "      border-top-color: var(--fill-color);\n",
              "      border-right-color: var(--fill-color);\n",
              "    }\n",
              "    40% {\n",
              "      border-color: transparent;\n",
              "      border-right-color: var(--fill-color);\n",
              "      border-top-color: var(--fill-color);\n",
              "    }\n",
              "    60% {\n",
              "      border-color: transparent;\n",
              "      border-right-color: var(--fill-color);\n",
              "    }\n",
              "    80% {\n",
              "      border-color: transparent;\n",
              "      border-right-color: var(--fill-color);\n",
              "      border-bottom-color: var(--fill-color);\n",
              "    }\n",
              "    90% {\n",
              "      border-color: transparent;\n",
              "      border-bottom-color: var(--fill-color);\n",
              "    }\n",
              "  }\n",
              "</style>\n",
              "\n",
              "  <script>\n",
              "    async function quickchart(key) {\n",
              "      const quickchartButtonEl =\n",
              "        document.querySelector('#' + key + ' button');\n",
              "      quickchartButtonEl.disabled = true;  // To prevent multiple clicks.\n",
              "      quickchartButtonEl.classList.add('colab-df-spinner');\n",
              "      try {\n",
              "        const charts = await google.colab.kernel.invokeFunction(\n",
              "            'suggestCharts', [key], {});\n",
              "      } catch (error) {\n",
              "        console.error('Error during call to suggestCharts:', error);\n",
              "      }\n",
              "      quickchartButtonEl.classList.remove('colab-df-spinner');\n",
              "      quickchartButtonEl.classList.add('colab-df-quickchart-complete');\n",
              "    }\n",
              "    (() => {\n",
              "      let quickchartButtonEl =\n",
              "        document.querySelector('#df-37d7a8ab-84ae-4e83-b484-8a40e0351f70 button');\n",
              "      quickchartButtonEl.style.display =\n",
              "        google.colab.kernel.accessAllowed ? 'block' : 'none';\n",
              "    })();\n",
              "  </script>\n",
              "</div>\n",
              "\n",
              "    </div>\n",
              "  </div>\n"
            ],
            "application/vnd.google.colaboratory.intrinsic+json": {
              "type": "dataframe",
              "variable_name": "df_customers",
              "summary": "{\n  \"name\": \"df_customers\",\n  \"rows\": 99441,\n  \"fields\": [\n    {\n      \"column\": \"customer_id\",\n      \"properties\": {\n        \"dtype\": \"string\",\n        \"num_unique_values\": 99441,\n        \"samples\": [\n          \"c7432c6d237ffd6aa36a007b4237ec38\",\n          \"7f399d641e2e2064470145178c9e8778\",\n          \"ba5642b730704dc0f74b7cf715b41ed5\"\n        ],\n        \"semantic_type\": \"\",\n        \"description\": \"\"\n      }\n    },\n    {\n      \"column\": \"customer_unique_id\",\n      \"properties\": {\n        \"dtype\": \"string\",\n        \"num_unique_values\": 96096,\n        \"samples\": [\n          \"b5d6fa3d2213927296ac893f14f4461c\",\n          \"0520a11c7af8a73b703f1d2e722c7c8a\",\n          \"7a19f3fff09616cbb1cf8fdaa05ae032\"\n        ],\n        \"semantic_type\": \"\",\n        \"description\": \"\"\n      }\n    },\n    {\n      \"column\": \"customer_zip_code_prefix\",\n      \"properties\": {\n        \"dtype\": \"number\",\n        \"std\": 29797,\n        \"min\": 1003,\n        \"max\": 99990,\n        \"num_unique_values\": 14994,\n        \"samples\": [\n          4343,\n          96820,\n          8598\n        ],\n        \"semantic_type\": \"\",\n        \"description\": \"\"\n      }\n    },\n    {\n      \"column\": \"customer_city\",\n      \"properties\": {\n        \"dtype\": \"category\",\n        \"num_unique_values\": 4119,\n        \"samples\": [\n          \"luis antonio\",\n          \"canitar\",\n          \"lagoinha do piaui\"\n        ],\n        \"semantic_type\": \"\",\n        \"description\": \"\"\n      }\n    },\n    {\n      \"column\": \"customer_state\",\n      \"properties\": {\n        \"dtype\": \"category\",\n        \"num_unique_values\": 27,\n        \"samples\": [\n          \"ES\",\n          \"DF\",\n          \"BA\"\n        ],\n        \"semantic_type\": \"\",\n        \"description\": \"\"\n      }\n    }\n  ]\n}"
            }
          },
          "metadata": {},
          "execution_count": 51
        }
      ]
    },
    {
      "cell_type": "code",
      "source": [
        "# Llamar a la función para limpiar y analizar los datos\n",
        "df_customers = limpiar_analizar_datos(df_customers)"
      ],
      "metadata": {
        "colab": {
          "base_uri": "https://localhost:8080/"
        },
        "id": "ttNaF1h8-F9-",
        "outputId": "a1ac64fe-0f8b-4391-e304-aa96ef037610"
      },
      "execution_count": 52,
      "outputs": [
        {
          "output_type": "stream",
          "name": "stdout",
          "text": [
            "Tamaño del DataFrame:\n",
            "(99441, 5)\n",
            "----------------------------------------\n",
            "Análisis de Tipos de Datos:\n",
            "<class 'pandas.core.frame.DataFrame'>\n",
            "RangeIndex: 99441 entries, 0 to 99440\n",
            "Data columns (total 5 columns):\n",
            " #   Column                    Non-Null Count  Dtype \n",
            "---  ------                    --------------  ----- \n",
            " 0   customer_id               99441 non-null  object\n",
            " 1   customer_unique_id        99441 non-null  object\n",
            " 2   customer_zip_code_prefix  99441 non-null  int64 \n",
            " 3   customer_city             99441 non-null  object\n",
            " 4   customer_state            99441 non-null  object\n",
            "dtypes: int64(1), object(4)\n",
            "memory usage: 3.8+ MB\n",
            "None\n",
            "----------------------------------------\n",
            "Recuento de Valores Nulos:\n",
            "customer_id                 0\n",
            "customer_unique_id          0\n",
            "customer_zip_code_prefix    0\n",
            "customer_city               0\n",
            "customer_state              0\n",
            "dtype: int64\n",
            "----------------------------------------\n",
            "Recuento de Valores Duplicados:\n",
            "0\n",
            "----------------------------------------\n",
            "Estadísticas Descriptivas:\n",
            "       customer_zip_code_prefix\n",
            "count              99441.000000\n",
            "mean               35137.474583\n",
            "std                29797.938996\n",
            "min                 1003.000000\n",
            "25%                11347.000000\n",
            "50%                24416.000000\n",
            "75%                58900.000000\n",
            "max                99990.000000\n",
            "----------------------------------------\n"
          ]
        }
      ]
    },
    {
      "cell_type": "markdown",
      "source": [
        "### PAYMENTS"
      ],
      "metadata": {
        "id": "hwqw_Oc1-vpg"
      }
    },
    {
      "cell_type": "code",
      "source": [
        "#Importar dataset como Dataframe y visualizar los 5 primeros datos del dataset\n",
        "df_payments = pd.read_csv(\"https://raw.githubusercontent.com/lucreciam/TrabajoFinalCursoAnalisisDeDatos/main/ecommerce_order_payments_dataset.csv\")\n",
        "df_payments.head()"
      ],
      "metadata": {
        "colab": {
          "base_uri": "https://localhost:8080/",
          "height": 206
        },
        "id": "4bXkFcb4-1pD",
        "outputId": "7f501ec6-d4eb-4b5c-b67b-b2c92684b567"
      },
      "execution_count": 53,
      "outputs": [
        {
          "output_type": "execute_result",
          "data": {
            "text/plain": [
              "                           order_id  payment_sequential payment_type  \\\n",
              "0  b81ef226f3fe1789b1e8b2acac839d17                   1  credit_card   \n",
              "1  a9810da82917af2d9aefd1278f1dcfa0                   1  credit_card   \n",
              "2  25e8ea4e93396b6fa0d3dd708e76c1bd                   1  credit_card   \n",
              "3  ba78997921bbcdc1373bb41e913ab953                   1  credit_card   \n",
              "4  42fdf880ba16b47b59251dd489d4441a                   1  credit_card   \n",
              "\n",
              "   payment_installments  payment_value  \n",
              "0                     8          99.33  \n",
              "1                     1          24.39  \n",
              "2                     1          65.71  \n",
              "3                     8         107.78  \n",
              "4                     2         128.45  "
            ],
            "text/html": [
              "\n",
              "  <div id=\"df-ab0c9d9e-2301-4f5c-a405-ba90e1b73cc0\" class=\"colab-df-container\">\n",
              "    <div>\n",
              "<style scoped>\n",
              "    .dataframe tbody tr th:only-of-type {\n",
              "        vertical-align: middle;\n",
              "    }\n",
              "\n",
              "    .dataframe tbody tr th {\n",
              "        vertical-align: top;\n",
              "    }\n",
              "\n",
              "    .dataframe thead th {\n",
              "        text-align: right;\n",
              "    }\n",
              "</style>\n",
              "<table border=\"1\" class=\"dataframe\">\n",
              "  <thead>\n",
              "    <tr style=\"text-align: right;\">\n",
              "      <th></th>\n",
              "      <th>order_id</th>\n",
              "      <th>payment_sequential</th>\n",
              "      <th>payment_type</th>\n",
              "      <th>payment_installments</th>\n",
              "      <th>payment_value</th>\n",
              "    </tr>\n",
              "  </thead>\n",
              "  <tbody>\n",
              "    <tr>\n",
              "      <th>0</th>\n",
              "      <td>b81ef226f3fe1789b1e8b2acac839d17</td>\n",
              "      <td>1</td>\n",
              "      <td>credit_card</td>\n",
              "      <td>8</td>\n",
              "      <td>99.33</td>\n",
              "    </tr>\n",
              "    <tr>\n",
              "      <th>1</th>\n",
              "      <td>a9810da82917af2d9aefd1278f1dcfa0</td>\n",
              "      <td>1</td>\n",
              "      <td>credit_card</td>\n",
              "      <td>1</td>\n",
              "      <td>24.39</td>\n",
              "    </tr>\n",
              "    <tr>\n",
              "      <th>2</th>\n",
              "      <td>25e8ea4e93396b6fa0d3dd708e76c1bd</td>\n",
              "      <td>1</td>\n",
              "      <td>credit_card</td>\n",
              "      <td>1</td>\n",
              "      <td>65.71</td>\n",
              "    </tr>\n",
              "    <tr>\n",
              "      <th>3</th>\n",
              "      <td>ba78997921bbcdc1373bb41e913ab953</td>\n",
              "      <td>1</td>\n",
              "      <td>credit_card</td>\n",
              "      <td>8</td>\n",
              "      <td>107.78</td>\n",
              "    </tr>\n",
              "    <tr>\n",
              "      <th>4</th>\n",
              "      <td>42fdf880ba16b47b59251dd489d4441a</td>\n",
              "      <td>1</td>\n",
              "      <td>credit_card</td>\n",
              "      <td>2</td>\n",
              "      <td>128.45</td>\n",
              "    </tr>\n",
              "  </tbody>\n",
              "</table>\n",
              "</div>\n",
              "    <div class=\"colab-df-buttons\">\n",
              "\n",
              "  <div class=\"colab-df-container\">\n",
              "    <button class=\"colab-df-convert\" onclick=\"convertToInteractive('df-ab0c9d9e-2301-4f5c-a405-ba90e1b73cc0')\"\n",
              "            title=\"Convert this dataframe to an interactive table.\"\n",
              "            style=\"display:none;\">\n",
              "\n",
              "  <svg xmlns=\"http://www.w3.org/2000/svg\" height=\"24px\" viewBox=\"0 -960 960 960\">\n",
              "    <path d=\"M120-120v-720h720v720H120Zm60-500h600v-160H180v160Zm220 220h160v-160H400v160Zm0 220h160v-160H400v160ZM180-400h160v-160H180v160Zm440 0h160v-160H620v160ZM180-180h160v-160H180v160Zm440 0h160v-160H620v160Z\"/>\n",
              "  </svg>\n",
              "    </button>\n",
              "\n",
              "  <style>\n",
              "    .colab-df-container {\n",
              "      display:flex;\n",
              "      gap: 12px;\n",
              "    }\n",
              "\n",
              "    .colab-df-convert {\n",
              "      background-color: #E8F0FE;\n",
              "      border: none;\n",
              "      border-radius: 50%;\n",
              "      cursor: pointer;\n",
              "      display: none;\n",
              "      fill: #1967D2;\n",
              "      height: 32px;\n",
              "      padding: 0 0 0 0;\n",
              "      width: 32px;\n",
              "    }\n",
              "\n",
              "    .colab-df-convert:hover {\n",
              "      background-color: #E2EBFA;\n",
              "      box-shadow: 0px 1px 2px rgba(60, 64, 67, 0.3), 0px 1px 3px 1px rgba(60, 64, 67, 0.15);\n",
              "      fill: #174EA6;\n",
              "    }\n",
              "\n",
              "    .colab-df-buttons div {\n",
              "      margin-bottom: 4px;\n",
              "    }\n",
              "\n",
              "    [theme=dark] .colab-df-convert {\n",
              "      background-color: #3B4455;\n",
              "      fill: #D2E3FC;\n",
              "    }\n",
              "\n",
              "    [theme=dark] .colab-df-convert:hover {\n",
              "      background-color: #434B5C;\n",
              "      box-shadow: 0px 1px 3px 1px rgba(0, 0, 0, 0.15);\n",
              "      filter: drop-shadow(0px 1px 2px rgba(0, 0, 0, 0.3));\n",
              "      fill: #FFFFFF;\n",
              "    }\n",
              "  </style>\n",
              "\n",
              "    <script>\n",
              "      const buttonEl =\n",
              "        document.querySelector('#df-ab0c9d9e-2301-4f5c-a405-ba90e1b73cc0 button.colab-df-convert');\n",
              "      buttonEl.style.display =\n",
              "        google.colab.kernel.accessAllowed ? 'block' : 'none';\n",
              "\n",
              "      async function convertToInteractive(key) {\n",
              "        const element = document.querySelector('#df-ab0c9d9e-2301-4f5c-a405-ba90e1b73cc0');\n",
              "        const dataTable =\n",
              "          await google.colab.kernel.invokeFunction('convertToInteractive',\n",
              "                                                    [key], {});\n",
              "        if (!dataTable) return;\n",
              "\n",
              "        const docLinkHtml = 'Like what you see? Visit the ' +\n",
              "          '<a target=\"_blank\" href=https://colab.research.google.com/notebooks/data_table.ipynb>data table notebook</a>'\n",
              "          + ' to learn more about interactive tables.';\n",
              "        element.innerHTML = '';\n",
              "        dataTable['output_type'] = 'display_data';\n",
              "        await google.colab.output.renderOutput(dataTable, element);\n",
              "        const docLink = document.createElement('div');\n",
              "        docLink.innerHTML = docLinkHtml;\n",
              "        element.appendChild(docLink);\n",
              "      }\n",
              "    </script>\n",
              "  </div>\n",
              "\n",
              "\n",
              "<div id=\"df-83b906cd-41a0-45ff-94e8-10cc5e100dca\">\n",
              "  <button class=\"colab-df-quickchart\" onclick=\"quickchart('df-83b906cd-41a0-45ff-94e8-10cc5e100dca')\"\n",
              "            title=\"Suggest charts\"\n",
              "            style=\"display:none;\">\n",
              "\n",
              "<svg xmlns=\"http://www.w3.org/2000/svg\" height=\"24px\"viewBox=\"0 0 24 24\"\n",
              "     width=\"24px\">\n",
              "    <g>\n",
              "        <path d=\"M19 3H5c-1.1 0-2 .9-2 2v14c0 1.1.9 2 2 2h14c1.1 0 2-.9 2-2V5c0-1.1-.9-2-2-2zM9 17H7v-7h2v7zm4 0h-2V7h2v10zm4 0h-2v-4h2v4z\"/>\n",
              "    </g>\n",
              "</svg>\n",
              "  </button>\n",
              "\n",
              "<style>\n",
              "  .colab-df-quickchart {\n",
              "      --bg-color: #E8F0FE;\n",
              "      --fill-color: #1967D2;\n",
              "      --hover-bg-color: #E2EBFA;\n",
              "      --hover-fill-color: #174EA6;\n",
              "      --disabled-fill-color: #AAA;\n",
              "      --disabled-bg-color: #DDD;\n",
              "  }\n",
              "\n",
              "  [theme=dark] .colab-df-quickchart {\n",
              "      --bg-color: #3B4455;\n",
              "      --fill-color: #D2E3FC;\n",
              "      --hover-bg-color: #434B5C;\n",
              "      --hover-fill-color: #FFFFFF;\n",
              "      --disabled-bg-color: #3B4455;\n",
              "      --disabled-fill-color: #666;\n",
              "  }\n",
              "\n",
              "  .colab-df-quickchart {\n",
              "    background-color: var(--bg-color);\n",
              "    border: none;\n",
              "    border-radius: 50%;\n",
              "    cursor: pointer;\n",
              "    display: none;\n",
              "    fill: var(--fill-color);\n",
              "    height: 32px;\n",
              "    padding: 0;\n",
              "    width: 32px;\n",
              "  }\n",
              "\n",
              "  .colab-df-quickchart:hover {\n",
              "    background-color: var(--hover-bg-color);\n",
              "    box-shadow: 0 1px 2px rgba(60, 64, 67, 0.3), 0 1px 3px 1px rgba(60, 64, 67, 0.15);\n",
              "    fill: var(--button-hover-fill-color);\n",
              "  }\n",
              "\n",
              "  .colab-df-quickchart-complete:disabled,\n",
              "  .colab-df-quickchart-complete:disabled:hover {\n",
              "    background-color: var(--disabled-bg-color);\n",
              "    fill: var(--disabled-fill-color);\n",
              "    box-shadow: none;\n",
              "  }\n",
              "\n",
              "  .colab-df-spinner {\n",
              "    border: 2px solid var(--fill-color);\n",
              "    border-color: transparent;\n",
              "    border-bottom-color: var(--fill-color);\n",
              "    animation:\n",
              "      spin 1s steps(1) infinite;\n",
              "  }\n",
              "\n",
              "  @keyframes spin {\n",
              "    0% {\n",
              "      border-color: transparent;\n",
              "      border-bottom-color: var(--fill-color);\n",
              "      border-left-color: var(--fill-color);\n",
              "    }\n",
              "    20% {\n",
              "      border-color: transparent;\n",
              "      border-left-color: var(--fill-color);\n",
              "      border-top-color: var(--fill-color);\n",
              "    }\n",
              "    30% {\n",
              "      border-color: transparent;\n",
              "      border-left-color: var(--fill-color);\n",
              "      border-top-color: var(--fill-color);\n",
              "      border-right-color: var(--fill-color);\n",
              "    }\n",
              "    40% {\n",
              "      border-color: transparent;\n",
              "      border-right-color: var(--fill-color);\n",
              "      border-top-color: var(--fill-color);\n",
              "    }\n",
              "    60% {\n",
              "      border-color: transparent;\n",
              "      border-right-color: var(--fill-color);\n",
              "    }\n",
              "    80% {\n",
              "      border-color: transparent;\n",
              "      border-right-color: var(--fill-color);\n",
              "      border-bottom-color: var(--fill-color);\n",
              "    }\n",
              "    90% {\n",
              "      border-color: transparent;\n",
              "      border-bottom-color: var(--fill-color);\n",
              "    }\n",
              "  }\n",
              "</style>\n",
              "\n",
              "  <script>\n",
              "    async function quickchart(key) {\n",
              "      const quickchartButtonEl =\n",
              "        document.querySelector('#' + key + ' button');\n",
              "      quickchartButtonEl.disabled = true;  // To prevent multiple clicks.\n",
              "      quickchartButtonEl.classList.add('colab-df-spinner');\n",
              "      try {\n",
              "        const charts = await google.colab.kernel.invokeFunction(\n",
              "            'suggestCharts', [key], {});\n",
              "      } catch (error) {\n",
              "        console.error('Error during call to suggestCharts:', error);\n",
              "      }\n",
              "      quickchartButtonEl.classList.remove('colab-df-spinner');\n",
              "      quickchartButtonEl.classList.add('colab-df-quickchart-complete');\n",
              "    }\n",
              "    (() => {\n",
              "      let quickchartButtonEl =\n",
              "        document.querySelector('#df-83b906cd-41a0-45ff-94e8-10cc5e100dca button');\n",
              "      quickchartButtonEl.style.display =\n",
              "        google.colab.kernel.accessAllowed ? 'block' : 'none';\n",
              "    })();\n",
              "  </script>\n",
              "</div>\n",
              "\n",
              "    </div>\n",
              "  </div>\n"
            ],
            "application/vnd.google.colaboratory.intrinsic+json": {
              "type": "dataframe",
              "variable_name": "df_payments"
            }
          },
          "metadata": {},
          "execution_count": 53
        }
      ]
    },
    {
      "cell_type": "code",
      "source": [
        "# Llamar a la función para limpiar y analizar los datos\n",
        "df_payments = limpiar_analizar_datos(df_payments)"
      ],
      "metadata": {
        "colab": {
          "base_uri": "https://localhost:8080/"
        },
        "id": "jbtwbbp_-_73",
        "outputId": "ee593ba2-29ce-40c6-ff6e-f23946da7dae"
      },
      "execution_count": 54,
      "outputs": [
        {
          "output_type": "stream",
          "name": "stdout",
          "text": [
            "Tamaño del DataFrame:\n",
            "(103886, 5)\n",
            "----------------------------------------\n",
            "Análisis de Tipos de Datos:\n",
            "<class 'pandas.core.frame.DataFrame'>\n",
            "RangeIndex: 103886 entries, 0 to 103885\n",
            "Data columns (total 5 columns):\n",
            " #   Column                Non-Null Count   Dtype  \n",
            "---  ------                --------------   -----  \n",
            " 0   order_id              103886 non-null  object \n",
            " 1   payment_sequential    103886 non-null  int64  \n",
            " 2   payment_type          103886 non-null  object \n",
            " 3   payment_installments  103886 non-null  int64  \n",
            " 4   payment_value         103886 non-null  float64\n",
            "dtypes: float64(1), int64(2), object(2)\n",
            "memory usage: 4.0+ MB\n",
            "None\n",
            "----------------------------------------\n",
            "Recuento de Valores Nulos:\n",
            "order_id                0\n",
            "payment_sequential      0\n",
            "payment_type            0\n",
            "payment_installments    0\n",
            "payment_value           0\n",
            "dtype: int64\n",
            "----------------------------------------\n",
            "Recuento de Valores Duplicados:\n",
            "0\n",
            "----------------------------------------\n",
            "Estadísticas Descriptivas:\n",
            "       payment_sequential  payment_installments  payment_value\n",
            "count       103886.000000         103886.000000  103886.000000\n",
            "mean             1.092679              2.853349     154.100380\n",
            "std              0.706584              2.687051     217.494064\n",
            "min              1.000000              0.000000       0.000000\n",
            "25%              1.000000              1.000000      56.790000\n",
            "50%              1.000000              1.000000     100.000000\n",
            "75%              1.000000              4.000000     171.837500\n",
            "max             29.000000             24.000000   13664.080000\n",
            "----------------------------------------\n"
          ]
        }
      ]
    },
    {
      "cell_type": "markdown",
      "source": [
        "### PRODUCTS"
      ],
      "metadata": {
        "id": "4gaXtfvf_IE1"
      }
    },
    {
      "cell_type": "code",
      "source": [
        "#Importar dataset como Dataframe y visualizar los 5 primeros datos del dataset\n",
        "df_products = pd.read_csv(\"https://raw.githubusercontent.com/lucreciam/TrabajoFinalCursoAnalisisDeDatos/main/ecommerce_products_dataset.csv\")\n",
        "df_products.head()"
      ],
      "metadata": {
        "colab": {
          "base_uri": "https://localhost:8080/",
          "height": 226
        },
        "id": "264ZU-KB_Kwj",
        "outputId": "db8b80a7-c056-4ce2-e650-5ac777674cb5"
      },
      "execution_count": 55,
      "outputs": [
        {
          "output_type": "execute_result",
          "data": {
            "text/plain": [
              "                         product_id  product_category_name  \\\n",
              "0  1e9e8ef04dbcff4541ed26657ea517e5             perfumaria   \n",
              "1  3aa071139cb16b67ca9e5dea641aaa2f                  artes   \n",
              "2  96bd76ec8810374ed1b65e291975717f          esporte_lazer   \n",
              "3  cef67bcfe19066a932b7673e239eb23d                  bebes   \n",
              "4  9dc1a7de274444849c219cff195d0b71  utilidades_domesticas   \n",
              "\n",
              "   product_name_lenght  product_description_lenght  product_photos_qty  \\\n",
              "0                 40.0                       287.0                 1.0   \n",
              "1                 44.0                       276.0                 1.0   \n",
              "2                 46.0                       250.0                 1.0   \n",
              "3                 27.0                       261.0                 1.0   \n",
              "4                 37.0                       402.0                 4.0   \n",
              "\n",
              "   product_weight_g  product_length_cm  product_height_cm  product_width_cm  \n",
              "0             225.0               16.0               10.0              14.0  \n",
              "1            1000.0               30.0               18.0              20.0  \n",
              "2             154.0               18.0                9.0              15.0  \n",
              "3             371.0               26.0                4.0              26.0  \n",
              "4             625.0               20.0               17.0              13.0  "
            ],
            "text/html": [
              "\n",
              "  <div id=\"df-62835bf1-9a23-415f-b7f5-bcb8bc960f54\" class=\"colab-df-container\">\n",
              "    <div>\n",
              "<style scoped>\n",
              "    .dataframe tbody tr th:only-of-type {\n",
              "        vertical-align: middle;\n",
              "    }\n",
              "\n",
              "    .dataframe tbody tr th {\n",
              "        vertical-align: top;\n",
              "    }\n",
              "\n",
              "    .dataframe thead th {\n",
              "        text-align: right;\n",
              "    }\n",
              "</style>\n",
              "<table border=\"1\" class=\"dataframe\">\n",
              "  <thead>\n",
              "    <tr style=\"text-align: right;\">\n",
              "      <th></th>\n",
              "      <th>product_id</th>\n",
              "      <th>product_category_name</th>\n",
              "      <th>product_name_lenght</th>\n",
              "      <th>product_description_lenght</th>\n",
              "      <th>product_photos_qty</th>\n",
              "      <th>product_weight_g</th>\n",
              "      <th>product_length_cm</th>\n",
              "      <th>product_height_cm</th>\n",
              "      <th>product_width_cm</th>\n",
              "    </tr>\n",
              "  </thead>\n",
              "  <tbody>\n",
              "    <tr>\n",
              "      <th>0</th>\n",
              "      <td>1e9e8ef04dbcff4541ed26657ea517e5</td>\n",
              "      <td>perfumaria</td>\n",
              "      <td>40.0</td>\n",
              "      <td>287.0</td>\n",
              "      <td>1.0</td>\n",
              "      <td>225.0</td>\n",
              "      <td>16.0</td>\n",
              "      <td>10.0</td>\n",
              "      <td>14.0</td>\n",
              "    </tr>\n",
              "    <tr>\n",
              "      <th>1</th>\n",
              "      <td>3aa071139cb16b67ca9e5dea641aaa2f</td>\n",
              "      <td>artes</td>\n",
              "      <td>44.0</td>\n",
              "      <td>276.0</td>\n",
              "      <td>1.0</td>\n",
              "      <td>1000.0</td>\n",
              "      <td>30.0</td>\n",
              "      <td>18.0</td>\n",
              "      <td>20.0</td>\n",
              "    </tr>\n",
              "    <tr>\n",
              "      <th>2</th>\n",
              "      <td>96bd76ec8810374ed1b65e291975717f</td>\n",
              "      <td>esporte_lazer</td>\n",
              "      <td>46.0</td>\n",
              "      <td>250.0</td>\n",
              "      <td>1.0</td>\n",
              "      <td>154.0</td>\n",
              "      <td>18.0</td>\n",
              "      <td>9.0</td>\n",
              "      <td>15.0</td>\n",
              "    </tr>\n",
              "    <tr>\n",
              "      <th>3</th>\n",
              "      <td>cef67bcfe19066a932b7673e239eb23d</td>\n",
              "      <td>bebes</td>\n",
              "      <td>27.0</td>\n",
              "      <td>261.0</td>\n",
              "      <td>1.0</td>\n",
              "      <td>371.0</td>\n",
              "      <td>26.0</td>\n",
              "      <td>4.0</td>\n",
              "      <td>26.0</td>\n",
              "    </tr>\n",
              "    <tr>\n",
              "      <th>4</th>\n",
              "      <td>9dc1a7de274444849c219cff195d0b71</td>\n",
              "      <td>utilidades_domesticas</td>\n",
              "      <td>37.0</td>\n",
              "      <td>402.0</td>\n",
              "      <td>4.0</td>\n",
              "      <td>625.0</td>\n",
              "      <td>20.0</td>\n",
              "      <td>17.0</td>\n",
              "      <td>13.0</td>\n",
              "    </tr>\n",
              "  </tbody>\n",
              "</table>\n",
              "</div>\n",
              "    <div class=\"colab-df-buttons\">\n",
              "\n",
              "  <div class=\"colab-df-container\">\n",
              "    <button class=\"colab-df-convert\" onclick=\"convertToInteractive('df-62835bf1-9a23-415f-b7f5-bcb8bc960f54')\"\n",
              "            title=\"Convert this dataframe to an interactive table.\"\n",
              "            style=\"display:none;\">\n",
              "\n",
              "  <svg xmlns=\"http://www.w3.org/2000/svg\" height=\"24px\" viewBox=\"0 -960 960 960\">\n",
              "    <path d=\"M120-120v-720h720v720H120Zm60-500h600v-160H180v160Zm220 220h160v-160H400v160Zm0 220h160v-160H400v160ZM180-400h160v-160H180v160Zm440 0h160v-160H620v160ZM180-180h160v-160H180v160Zm440 0h160v-160H620v160Z\"/>\n",
              "  </svg>\n",
              "    </button>\n",
              "\n",
              "  <style>\n",
              "    .colab-df-container {\n",
              "      display:flex;\n",
              "      gap: 12px;\n",
              "    }\n",
              "\n",
              "    .colab-df-convert {\n",
              "      background-color: #E8F0FE;\n",
              "      border: none;\n",
              "      border-radius: 50%;\n",
              "      cursor: pointer;\n",
              "      display: none;\n",
              "      fill: #1967D2;\n",
              "      height: 32px;\n",
              "      padding: 0 0 0 0;\n",
              "      width: 32px;\n",
              "    }\n",
              "\n",
              "    .colab-df-convert:hover {\n",
              "      background-color: #E2EBFA;\n",
              "      box-shadow: 0px 1px 2px rgba(60, 64, 67, 0.3), 0px 1px 3px 1px rgba(60, 64, 67, 0.15);\n",
              "      fill: #174EA6;\n",
              "    }\n",
              "\n",
              "    .colab-df-buttons div {\n",
              "      margin-bottom: 4px;\n",
              "    }\n",
              "\n",
              "    [theme=dark] .colab-df-convert {\n",
              "      background-color: #3B4455;\n",
              "      fill: #D2E3FC;\n",
              "    }\n",
              "\n",
              "    [theme=dark] .colab-df-convert:hover {\n",
              "      background-color: #434B5C;\n",
              "      box-shadow: 0px 1px 3px 1px rgba(0, 0, 0, 0.15);\n",
              "      filter: drop-shadow(0px 1px 2px rgba(0, 0, 0, 0.3));\n",
              "      fill: #FFFFFF;\n",
              "    }\n",
              "  </style>\n",
              "\n",
              "    <script>\n",
              "      const buttonEl =\n",
              "        document.querySelector('#df-62835bf1-9a23-415f-b7f5-bcb8bc960f54 button.colab-df-convert');\n",
              "      buttonEl.style.display =\n",
              "        google.colab.kernel.accessAllowed ? 'block' : 'none';\n",
              "\n",
              "      async function convertToInteractive(key) {\n",
              "        const element = document.querySelector('#df-62835bf1-9a23-415f-b7f5-bcb8bc960f54');\n",
              "        const dataTable =\n",
              "          await google.colab.kernel.invokeFunction('convertToInteractive',\n",
              "                                                    [key], {});\n",
              "        if (!dataTable) return;\n",
              "\n",
              "        const docLinkHtml = 'Like what you see? Visit the ' +\n",
              "          '<a target=\"_blank\" href=https://colab.research.google.com/notebooks/data_table.ipynb>data table notebook</a>'\n",
              "          + ' to learn more about interactive tables.';\n",
              "        element.innerHTML = '';\n",
              "        dataTable['output_type'] = 'display_data';\n",
              "        await google.colab.output.renderOutput(dataTable, element);\n",
              "        const docLink = document.createElement('div');\n",
              "        docLink.innerHTML = docLinkHtml;\n",
              "        element.appendChild(docLink);\n",
              "      }\n",
              "    </script>\n",
              "  </div>\n",
              "\n",
              "\n",
              "<div id=\"df-ab5944a1-e328-4b43-89de-dfacc62b5a20\">\n",
              "  <button class=\"colab-df-quickchart\" onclick=\"quickchart('df-ab5944a1-e328-4b43-89de-dfacc62b5a20')\"\n",
              "            title=\"Suggest charts\"\n",
              "            style=\"display:none;\">\n",
              "\n",
              "<svg xmlns=\"http://www.w3.org/2000/svg\" height=\"24px\"viewBox=\"0 0 24 24\"\n",
              "     width=\"24px\">\n",
              "    <g>\n",
              "        <path d=\"M19 3H5c-1.1 0-2 .9-2 2v14c0 1.1.9 2 2 2h14c1.1 0 2-.9 2-2V5c0-1.1-.9-2-2-2zM9 17H7v-7h2v7zm4 0h-2V7h2v10zm4 0h-2v-4h2v4z\"/>\n",
              "    </g>\n",
              "</svg>\n",
              "  </button>\n",
              "\n",
              "<style>\n",
              "  .colab-df-quickchart {\n",
              "      --bg-color: #E8F0FE;\n",
              "      --fill-color: #1967D2;\n",
              "      --hover-bg-color: #E2EBFA;\n",
              "      --hover-fill-color: #174EA6;\n",
              "      --disabled-fill-color: #AAA;\n",
              "      --disabled-bg-color: #DDD;\n",
              "  }\n",
              "\n",
              "  [theme=dark] .colab-df-quickchart {\n",
              "      --bg-color: #3B4455;\n",
              "      --fill-color: #D2E3FC;\n",
              "      --hover-bg-color: #434B5C;\n",
              "      --hover-fill-color: #FFFFFF;\n",
              "      --disabled-bg-color: #3B4455;\n",
              "      --disabled-fill-color: #666;\n",
              "  }\n",
              "\n",
              "  .colab-df-quickchart {\n",
              "    background-color: var(--bg-color);\n",
              "    border: none;\n",
              "    border-radius: 50%;\n",
              "    cursor: pointer;\n",
              "    display: none;\n",
              "    fill: var(--fill-color);\n",
              "    height: 32px;\n",
              "    padding: 0;\n",
              "    width: 32px;\n",
              "  }\n",
              "\n",
              "  .colab-df-quickchart:hover {\n",
              "    background-color: var(--hover-bg-color);\n",
              "    box-shadow: 0 1px 2px rgba(60, 64, 67, 0.3), 0 1px 3px 1px rgba(60, 64, 67, 0.15);\n",
              "    fill: var(--button-hover-fill-color);\n",
              "  }\n",
              "\n",
              "  .colab-df-quickchart-complete:disabled,\n",
              "  .colab-df-quickchart-complete:disabled:hover {\n",
              "    background-color: var(--disabled-bg-color);\n",
              "    fill: var(--disabled-fill-color);\n",
              "    box-shadow: none;\n",
              "  }\n",
              "\n",
              "  .colab-df-spinner {\n",
              "    border: 2px solid var(--fill-color);\n",
              "    border-color: transparent;\n",
              "    border-bottom-color: var(--fill-color);\n",
              "    animation:\n",
              "      spin 1s steps(1) infinite;\n",
              "  }\n",
              "\n",
              "  @keyframes spin {\n",
              "    0% {\n",
              "      border-color: transparent;\n",
              "      border-bottom-color: var(--fill-color);\n",
              "      border-left-color: var(--fill-color);\n",
              "    }\n",
              "    20% {\n",
              "      border-color: transparent;\n",
              "      border-left-color: var(--fill-color);\n",
              "      border-top-color: var(--fill-color);\n",
              "    }\n",
              "    30% {\n",
              "      border-color: transparent;\n",
              "      border-left-color: var(--fill-color);\n",
              "      border-top-color: var(--fill-color);\n",
              "      border-right-color: var(--fill-color);\n",
              "    }\n",
              "    40% {\n",
              "      border-color: transparent;\n",
              "      border-right-color: var(--fill-color);\n",
              "      border-top-color: var(--fill-color);\n",
              "    }\n",
              "    60% {\n",
              "      border-color: transparent;\n",
              "      border-right-color: var(--fill-color);\n",
              "    }\n",
              "    80% {\n",
              "      border-color: transparent;\n",
              "      border-right-color: var(--fill-color);\n",
              "      border-bottom-color: var(--fill-color);\n",
              "    }\n",
              "    90% {\n",
              "      border-color: transparent;\n",
              "      border-bottom-color: var(--fill-color);\n",
              "    }\n",
              "  }\n",
              "</style>\n",
              "\n",
              "  <script>\n",
              "    async function quickchart(key) {\n",
              "      const quickchartButtonEl =\n",
              "        document.querySelector('#' + key + ' button');\n",
              "      quickchartButtonEl.disabled = true;  // To prevent multiple clicks.\n",
              "      quickchartButtonEl.classList.add('colab-df-spinner');\n",
              "      try {\n",
              "        const charts = await google.colab.kernel.invokeFunction(\n",
              "            'suggestCharts', [key], {});\n",
              "      } catch (error) {\n",
              "        console.error('Error during call to suggestCharts:', error);\n",
              "      }\n",
              "      quickchartButtonEl.classList.remove('colab-df-spinner');\n",
              "      quickchartButtonEl.classList.add('colab-df-quickchart-complete');\n",
              "    }\n",
              "    (() => {\n",
              "      let quickchartButtonEl =\n",
              "        document.querySelector('#df-ab5944a1-e328-4b43-89de-dfacc62b5a20 button');\n",
              "      quickchartButtonEl.style.display =\n",
              "        google.colab.kernel.accessAllowed ? 'block' : 'none';\n",
              "    })();\n",
              "  </script>\n",
              "</div>\n",
              "\n",
              "    </div>\n",
              "  </div>\n"
            ],
            "application/vnd.google.colaboratory.intrinsic+json": {
              "type": "dataframe",
              "variable_name": "df_products",
              "summary": "{\n  \"name\": \"df_products\",\n  \"rows\": 32951,\n  \"fields\": [\n    {\n      \"column\": \"product_id\",\n      \"properties\": {\n        \"dtype\": \"string\",\n        \"num_unique_values\": 32951,\n        \"samples\": [\n          \"f819f0c84a64f02d3a5606ca95edd272\",\n          \"b9de40e43fccb6ba53b7eadbd5c49077\",\n          \"26afe4ed5890d941fcba14205863eec7\"\n        ],\n        \"semantic_type\": \"\",\n        \"description\": \"\"\n      }\n    },\n    {\n      \"column\": \"product_category_name\",\n      \"properties\": {\n        \"dtype\": \"category\",\n        \"num_unique_values\": 73,\n        \"samples\": [\n          \"utilidades_domesticas\",\n          \"pc_gamer\",\n          \"eletronicos\"\n        ],\n        \"semantic_type\": \"\",\n        \"description\": \"\"\n      }\n    },\n    {\n      \"column\": \"product_name_lenght\",\n      \"properties\": {\n        \"dtype\": \"number\",\n        \"std\": 10.245740725237239,\n        \"min\": 5.0,\n        \"max\": 76.0,\n        \"num_unique_values\": 66,\n        \"samples\": [\n          13.0,\n          72.0,\n          40.0\n        ],\n        \"semantic_type\": \"\",\n        \"description\": \"\"\n      }\n    },\n    {\n      \"column\": \"product_description_lenght\",\n      \"properties\": {\n        \"dtype\": \"number\",\n        \"std\": 635.1152246349538,\n        \"min\": 4.0,\n        \"max\": 3992.0,\n        \"num_unique_values\": 2960,\n        \"samples\": [\n          1314.0,\n          40.0,\n          123.0\n        ],\n        \"semantic_type\": \"\",\n        \"description\": \"\"\n      }\n    },\n    {\n      \"column\": \"product_photos_qty\",\n      \"properties\": {\n        \"dtype\": \"number\",\n        \"std\": 1.7367656379315444,\n        \"min\": 1.0,\n        \"max\": 20.0,\n        \"num_unique_values\": 19,\n        \"samples\": [\n          1.0,\n          9.0,\n          17.0\n        ],\n        \"semantic_type\": \"\",\n        \"description\": \"\"\n      }\n    },\n    {\n      \"column\": \"product_weight_g\",\n      \"properties\": {\n        \"dtype\": \"number\",\n        \"std\": 4282.038730977007,\n        \"min\": 0.0,\n        \"max\": 40425.0,\n        \"num_unique_values\": 2204,\n        \"samples\": [\n          567.0,\n          241.0,\n          2646.0\n        ],\n        \"semantic_type\": \"\",\n        \"description\": \"\"\n      }\n    },\n    {\n      \"column\": \"product_length_cm\",\n      \"properties\": {\n        \"dtype\": \"number\",\n        \"std\": 16.914458054065967,\n        \"min\": 7.0,\n        \"max\": 105.0,\n        \"num_unique_values\": 99,\n        \"samples\": [\n          88.0,\n          75.0,\n          10.0\n        ],\n        \"semantic_type\": \"\",\n        \"description\": \"\"\n      }\n    },\n    {\n      \"column\": \"product_height_cm\",\n      \"properties\": {\n        \"dtype\": \"number\",\n        \"std\": 13.637554061749494,\n        \"min\": 2.0,\n        \"max\": 105.0,\n        \"num_unique_values\": 102,\n        \"samples\": [\n          6.0,\n          38.0,\n          54.0\n        ],\n        \"semantic_type\": \"\",\n        \"description\": \"\"\n      }\n    },\n    {\n      \"column\": \"product_width_cm\",\n      \"properties\": {\n        \"dtype\": \"number\",\n        \"std\": 12.079047453227835,\n        \"min\": 6.0,\n        \"max\": 118.0,\n        \"num_unique_values\": 95,\n        \"samples\": [\n          80.0,\n          38.0,\n          9.0\n        ],\n        \"semantic_type\": \"\",\n        \"description\": \"\"\n      }\n    }\n  ]\n}"
            }
          },
          "metadata": {},
          "execution_count": 55
        }
      ]
    },
    {
      "cell_type": "code",
      "source": [
        "# Llamar a la función para limpiar y analizar los datos\n",
        "df_products = limpiar_analizar_datos(df_products)"
      ],
      "metadata": {
        "colab": {
          "base_uri": "https://localhost:8080/"
        },
        "id": "kDodffl0_VuD",
        "outputId": "bac23771-0c4c-4201-aa13-91deeba683ec"
      },
      "execution_count": 56,
      "outputs": [
        {
          "output_type": "stream",
          "name": "stdout",
          "text": [
            "Tamaño del DataFrame:\n",
            "(32951, 9)\n",
            "----------------------------------------\n",
            "Análisis de Tipos de Datos:\n",
            "<class 'pandas.core.frame.DataFrame'>\n",
            "RangeIndex: 32951 entries, 0 to 32950\n",
            "Data columns (total 9 columns):\n",
            " #   Column                      Non-Null Count  Dtype  \n",
            "---  ------                      --------------  -----  \n",
            " 0   product_id                  32951 non-null  object \n",
            " 1   product_category_name       32341 non-null  object \n",
            " 2   product_name_lenght         32341 non-null  float64\n",
            " 3   product_description_lenght  32341 non-null  float64\n",
            " 4   product_photos_qty          32341 non-null  float64\n",
            " 5   product_weight_g            32949 non-null  float64\n",
            " 6   product_length_cm           32949 non-null  float64\n",
            " 7   product_height_cm           32949 non-null  float64\n",
            " 8   product_width_cm            32949 non-null  float64\n",
            "dtypes: float64(7), object(2)\n",
            "memory usage: 2.3+ MB\n",
            "None\n",
            "----------------------------------------\n",
            "Recuento de Valores Nulos:\n",
            "product_id                      0\n",
            "product_category_name         610\n",
            "product_name_lenght           610\n",
            "product_description_lenght    610\n",
            "product_photos_qty            610\n",
            "product_weight_g                2\n",
            "product_length_cm               2\n",
            "product_height_cm               2\n",
            "product_width_cm                2\n",
            "dtype: int64\n",
            "----------------------------------------\n",
            "Recuento de Valores Duplicados:\n",
            "0\n",
            "----------------------------------------\n",
            "Estadísticas Descriptivas:\n",
            "       product_name_lenght  product_description_lenght  product_photos_qty  \\\n",
            "count         32341.000000                32341.000000        32341.000000   \n",
            "mean             48.476949                  771.495285            2.188986   \n",
            "std              10.245741                  635.115225            1.736766   \n",
            "min               5.000000                    4.000000            1.000000   \n",
            "25%              42.000000                  339.000000            1.000000   \n",
            "50%              51.000000                  595.000000            1.000000   \n",
            "75%              57.000000                  972.000000            3.000000   \n",
            "max              76.000000                 3992.000000           20.000000   \n",
            "\n",
            "       product_weight_g  product_length_cm  product_height_cm  \\\n",
            "count      32949.000000       32949.000000       32949.000000   \n",
            "mean        2276.472488          30.815078          16.937661   \n",
            "std         4282.038731          16.914458          13.637554   \n",
            "min            0.000000           7.000000           2.000000   \n",
            "25%          300.000000          18.000000           8.000000   \n",
            "50%          700.000000          25.000000          13.000000   \n",
            "75%         1900.000000          38.000000          21.000000   \n",
            "max        40425.000000         105.000000         105.000000   \n",
            "\n",
            "       product_width_cm  \n",
            "count      32949.000000  \n",
            "mean          23.196728  \n",
            "std           12.079047  \n",
            "min            6.000000  \n",
            "25%           15.000000  \n",
            "50%           20.000000  \n",
            "75%           30.000000  \n",
            "max          118.000000  \n",
            "----------------------------------------\n"
          ]
        }
      ]
    },
    {
      "cell_type": "markdown",
      "source": [
        "### ORDERS ITEMS"
      ],
      "metadata": {
        "id": "jx9MjQ54-SqF"
      }
    },
    {
      "cell_type": "code",
      "source": [
        "#Importar dataset como Dataframe y visualizar los 5 primeros datos del dataset\n",
        "df_order_items = pd.read_csv(\"https://raw.githubusercontent.com/lucreciam/TrabajoFinalCursoAnalisisDeDatos/main/ecommerce_order_items_dataset.csv\")\n",
        "df_order_items.head()"
      ],
      "metadata": {
        "colab": {
          "base_uri": "https://localhost:8080/",
          "height": 206
        },
        "id": "xj8ap591-WG2",
        "outputId": "45e0ec3f-d384-4158-b973-7c12f591e0d9"
      },
      "execution_count": 57,
      "outputs": [
        {
          "output_type": "execute_result",
          "data": {
            "text/plain": [
              "                           order_id  order_item_id  \\\n",
              "0  00010242fe8c5a6d1ba2dd792cb16214              1   \n",
              "1  00018f77f2f0320c557190d7a144bdd3              1   \n",
              "2  000229ec398224ef6ca0657da4fc703e              1   \n",
              "3  00024acbcdf0a6daa1e931b038114c75              1   \n",
              "4  00042b26cf59d7ce69dfabb4e55b4fd9              1   \n",
              "\n",
              "                         product_id                         seller_id  \\\n",
              "0  4244733e06e7ecb4970a6e2683c13e61  48436dade18ac8b2bce089ec2a041202   \n",
              "1  e5f2d52b802189ee658865ca93d83a8f  dd7ddc04e1b6c2c614352b383efe2d36   \n",
              "2  c777355d18b72b67abbeef9df44fd0fd  5b51032eddd242adc84c38acab88f23d   \n",
              "3  7634da152a4610f1595efa32f14722fc  9d7a1d34a5052409006425275ba1c2b4   \n",
              "4  ac6c3623068f30de03045865e4e10089  df560393f3a51e74553ab94004ba5c87   \n",
              "\n",
              "   shipping_limit_date   price  freight_value  \n",
              "0  2017-09-19 09:45:35   58.90          13.29  \n",
              "1  2017-05-03 11:05:13  239.90          19.93  \n",
              "2  2018-01-18 14:48:30  199.00          17.87  \n",
              "3  2018-08-15 10:10:18   12.99          12.79  \n",
              "4  2017-02-13 13:57:51  199.90          18.14  "
            ],
            "text/html": [
              "\n",
              "  <div id=\"df-269dbafe-5be4-4732-a0b1-cd2f280b10e6\" class=\"colab-df-container\">\n",
              "    <div>\n",
              "<style scoped>\n",
              "    .dataframe tbody tr th:only-of-type {\n",
              "        vertical-align: middle;\n",
              "    }\n",
              "\n",
              "    .dataframe tbody tr th {\n",
              "        vertical-align: top;\n",
              "    }\n",
              "\n",
              "    .dataframe thead th {\n",
              "        text-align: right;\n",
              "    }\n",
              "</style>\n",
              "<table border=\"1\" class=\"dataframe\">\n",
              "  <thead>\n",
              "    <tr style=\"text-align: right;\">\n",
              "      <th></th>\n",
              "      <th>order_id</th>\n",
              "      <th>order_item_id</th>\n",
              "      <th>product_id</th>\n",
              "      <th>seller_id</th>\n",
              "      <th>shipping_limit_date</th>\n",
              "      <th>price</th>\n",
              "      <th>freight_value</th>\n",
              "    </tr>\n",
              "  </thead>\n",
              "  <tbody>\n",
              "    <tr>\n",
              "      <th>0</th>\n",
              "      <td>00010242fe8c5a6d1ba2dd792cb16214</td>\n",
              "      <td>1</td>\n",
              "      <td>4244733e06e7ecb4970a6e2683c13e61</td>\n",
              "      <td>48436dade18ac8b2bce089ec2a041202</td>\n",
              "      <td>2017-09-19 09:45:35</td>\n",
              "      <td>58.90</td>\n",
              "      <td>13.29</td>\n",
              "    </tr>\n",
              "    <tr>\n",
              "      <th>1</th>\n",
              "      <td>00018f77f2f0320c557190d7a144bdd3</td>\n",
              "      <td>1</td>\n",
              "      <td>e5f2d52b802189ee658865ca93d83a8f</td>\n",
              "      <td>dd7ddc04e1b6c2c614352b383efe2d36</td>\n",
              "      <td>2017-05-03 11:05:13</td>\n",
              "      <td>239.90</td>\n",
              "      <td>19.93</td>\n",
              "    </tr>\n",
              "    <tr>\n",
              "      <th>2</th>\n",
              "      <td>000229ec398224ef6ca0657da4fc703e</td>\n",
              "      <td>1</td>\n",
              "      <td>c777355d18b72b67abbeef9df44fd0fd</td>\n",
              "      <td>5b51032eddd242adc84c38acab88f23d</td>\n",
              "      <td>2018-01-18 14:48:30</td>\n",
              "      <td>199.00</td>\n",
              "      <td>17.87</td>\n",
              "    </tr>\n",
              "    <tr>\n",
              "      <th>3</th>\n",
              "      <td>00024acbcdf0a6daa1e931b038114c75</td>\n",
              "      <td>1</td>\n",
              "      <td>7634da152a4610f1595efa32f14722fc</td>\n",
              "      <td>9d7a1d34a5052409006425275ba1c2b4</td>\n",
              "      <td>2018-08-15 10:10:18</td>\n",
              "      <td>12.99</td>\n",
              "      <td>12.79</td>\n",
              "    </tr>\n",
              "    <tr>\n",
              "      <th>4</th>\n",
              "      <td>00042b26cf59d7ce69dfabb4e55b4fd9</td>\n",
              "      <td>1</td>\n",
              "      <td>ac6c3623068f30de03045865e4e10089</td>\n",
              "      <td>df560393f3a51e74553ab94004ba5c87</td>\n",
              "      <td>2017-02-13 13:57:51</td>\n",
              "      <td>199.90</td>\n",
              "      <td>18.14</td>\n",
              "    </tr>\n",
              "  </tbody>\n",
              "</table>\n",
              "</div>\n",
              "    <div class=\"colab-df-buttons\">\n",
              "\n",
              "  <div class=\"colab-df-container\">\n",
              "    <button class=\"colab-df-convert\" onclick=\"convertToInteractive('df-269dbafe-5be4-4732-a0b1-cd2f280b10e6')\"\n",
              "            title=\"Convert this dataframe to an interactive table.\"\n",
              "            style=\"display:none;\">\n",
              "\n",
              "  <svg xmlns=\"http://www.w3.org/2000/svg\" height=\"24px\" viewBox=\"0 -960 960 960\">\n",
              "    <path d=\"M120-120v-720h720v720H120Zm60-500h600v-160H180v160Zm220 220h160v-160H400v160Zm0 220h160v-160H400v160ZM180-400h160v-160H180v160Zm440 0h160v-160H620v160ZM180-180h160v-160H180v160Zm440 0h160v-160H620v160Z\"/>\n",
              "  </svg>\n",
              "    </button>\n",
              "\n",
              "  <style>\n",
              "    .colab-df-container {\n",
              "      display:flex;\n",
              "      gap: 12px;\n",
              "    }\n",
              "\n",
              "    .colab-df-convert {\n",
              "      background-color: #E8F0FE;\n",
              "      border: none;\n",
              "      border-radius: 50%;\n",
              "      cursor: pointer;\n",
              "      display: none;\n",
              "      fill: #1967D2;\n",
              "      height: 32px;\n",
              "      padding: 0 0 0 0;\n",
              "      width: 32px;\n",
              "    }\n",
              "\n",
              "    .colab-df-convert:hover {\n",
              "      background-color: #E2EBFA;\n",
              "      box-shadow: 0px 1px 2px rgba(60, 64, 67, 0.3), 0px 1px 3px 1px rgba(60, 64, 67, 0.15);\n",
              "      fill: #174EA6;\n",
              "    }\n",
              "\n",
              "    .colab-df-buttons div {\n",
              "      margin-bottom: 4px;\n",
              "    }\n",
              "\n",
              "    [theme=dark] .colab-df-convert {\n",
              "      background-color: #3B4455;\n",
              "      fill: #D2E3FC;\n",
              "    }\n",
              "\n",
              "    [theme=dark] .colab-df-convert:hover {\n",
              "      background-color: #434B5C;\n",
              "      box-shadow: 0px 1px 3px 1px rgba(0, 0, 0, 0.15);\n",
              "      filter: drop-shadow(0px 1px 2px rgba(0, 0, 0, 0.3));\n",
              "      fill: #FFFFFF;\n",
              "    }\n",
              "  </style>\n",
              "\n",
              "    <script>\n",
              "      const buttonEl =\n",
              "        document.querySelector('#df-269dbafe-5be4-4732-a0b1-cd2f280b10e6 button.colab-df-convert');\n",
              "      buttonEl.style.display =\n",
              "        google.colab.kernel.accessAllowed ? 'block' : 'none';\n",
              "\n",
              "      async function convertToInteractive(key) {\n",
              "        const element = document.querySelector('#df-269dbafe-5be4-4732-a0b1-cd2f280b10e6');\n",
              "        const dataTable =\n",
              "          await google.colab.kernel.invokeFunction('convertToInteractive',\n",
              "                                                    [key], {});\n",
              "        if (!dataTable) return;\n",
              "\n",
              "        const docLinkHtml = 'Like what you see? Visit the ' +\n",
              "          '<a target=\"_blank\" href=https://colab.research.google.com/notebooks/data_table.ipynb>data table notebook</a>'\n",
              "          + ' to learn more about interactive tables.';\n",
              "        element.innerHTML = '';\n",
              "        dataTable['output_type'] = 'display_data';\n",
              "        await google.colab.output.renderOutput(dataTable, element);\n",
              "        const docLink = document.createElement('div');\n",
              "        docLink.innerHTML = docLinkHtml;\n",
              "        element.appendChild(docLink);\n",
              "      }\n",
              "    </script>\n",
              "  </div>\n",
              "\n",
              "\n",
              "<div id=\"df-7c5e852b-6e32-4f96-b9a8-e00989acf362\">\n",
              "  <button class=\"colab-df-quickchart\" onclick=\"quickchart('df-7c5e852b-6e32-4f96-b9a8-e00989acf362')\"\n",
              "            title=\"Suggest charts\"\n",
              "            style=\"display:none;\">\n",
              "\n",
              "<svg xmlns=\"http://www.w3.org/2000/svg\" height=\"24px\"viewBox=\"0 0 24 24\"\n",
              "     width=\"24px\">\n",
              "    <g>\n",
              "        <path d=\"M19 3H5c-1.1 0-2 .9-2 2v14c0 1.1.9 2 2 2h14c1.1 0 2-.9 2-2V5c0-1.1-.9-2-2-2zM9 17H7v-7h2v7zm4 0h-2V7h2v10zm4 0h-2v-4h2v4z\"/>\n",
              "    </g>\n",
              "</svg>\n",
              "  </button>\n",
              "\n",
              "<style>\n",
              "  .colab-df-quickchart {\n",
              "      --bg-color: #E8F0FE;\n",
              "      --fill-color: #1967D2;\n",
              "      --hover-bg-color: #E2EBFA;\n",
              "      --hover-fill-color: #174EA6;\n",
              "      --disabled-fill-color: #AAA;\n",
              "      --disabled-bg-color: #DDD;\n",
              "  }\n",
              "\n",
              "  [theme=dark] .colab-df-quickchart {\n",
              "      --bg-color: #3B4455;\n",
              "      --fill-color: #D2E3FC;\n",
              "      --hover-bg-color: #434B5C;\n",
              "      --hover-fill-color: #FFFFFF;\n",
              "      --disabled-bg-color: #3B4455;\n",
              "      --disabled-fill-color: #666;\n",
              "  }\n",
              "\n",
              "  .colab-df-quickchart {\n",
              "    background-color: var(--bg-color);\n",
              "    border: none;\n",
              "    border-radius: 50%;\n",
              "    cursor: pointer;\n",
              "    display: none;\n",
              "    fill: var(--fill-color);\n",
              "    height: 32px;\n",
              "    padding: 0;\n",
              "    width: 32px;\n",
              "  }\n",
              "\n",
              "  .colab-df-quickchart:hover {\n",
              "    background-color: var(--hover-bg-color);\n",
              "    box-shadow: 0 1px 2px rgba(60, 64, 67, 0.3), 0 1px 3px 1px rgba(60, 64, 67, 0.15);\n",
              "    fill: var(--button-hover-fill-color);\n",
              "  }\n",
              "\n",
              "  .colab-df-quickchart-complete:disabled,\n",
              "  .colab-df-quickchart-complete:disabled:hover {\n",
              "    background-color: var(--disabled-bg-color);\n",
              "    fill: var(--disabled-fill-color);\n",
              "    box-shadow: none;\n",
              "  }\n",
              "\n",
              "  .colab-df-spinner {\n",
              "    border: 2px solid var(--fill-color);\n",
              "    border-color: transparent;\n",
              "    border-bottom-color: var(--fill-color);\n",
              "    animation:\n",
              "      spin 1s steps(1) infinite;\n",
              "  }\n",
              "\n",
              "  @keyframes spin {\n",
              "    0% {\n",
              "      border-color: transparent;\n",
              "      border-bottom-color: var(--fill-color);\n",
              "      border-left-color: var(--fill-color);\n",
              "    }\n",
              "    20% {\n",
              "      border-color: transparent;\n",
              "      border-left-color: var(--fill-color);\n",
              "      border-top-color: var(--fill-color);\n",
              "    }\n",
              "    30% {\n",
              "      border-color: transparent;\n",
              "      border-left-color: var(--fill-color);\n",
              "      border-top-color: var(--fill-color);\n",
              "      border-right-color: var(--fill-color);\n",
              "    }\n",
              "    40% {\n",
              "      border-color: transparent;\n",
              "      border-right-color: var(--fill-color);\n",
              "      border-top-color: var(--fill-color);\n",
              "    }\n",
              "    60% {\n",
              "      border-color: transparent;\n",
              "      border-right-color: var(--fill-color);\n",
              "    }\n",
              "    80% {\n",
              "      border-color: transparent;\n",
              "      border-right-color: var(--fill-color);\n",
              "      border-bottom-color: var(--fill-color);\n",
              "    }\n",
              "    90% {\n",
              "      border-color: transparent;\n",
              "      border-bottom-color: var(--fill-color);\n",
              "    }\n",
              "  }\n",
              "</style>\n",
              "\n",
              "  <script>\n",
              "    async function quickchart(key) {\n",
              "      const quickchartButtonEl =\n",
              "        document.querySelector('#' + key + ' button');\n",
              "      quickchartButtonEl.disabled = true;  // To prevent multiple clicks.\n",
              "      quickchartButtonEl.classList.add('colab-df-spinner');\n",
              "      try {\n",
              "        const charts = await google.colab.kernel.invokeFunction(\n",
              "            'suggestCharts', [key], {});\n",
              "      } catch (error) {\n",
              "        console.error('Error during call to suggestCharts:', error);\n",
              "      }\n",
              "      quickchartButtonEl.classList.remove('colab-df-spinner');\n",
              "      quickchartButtonEl.classList.add('colab-df-quickchart-complete');\n",
              "    }\n",
              "    (() => {\n",
              "      let quickchartButtonEl =\n",
              "        document.querySelector('#df-7c5e852b-6e32-4f96-b9a8-e00989acf362 button');\n",
              "      quickchartButtonEl.style.display =\n",
              "        google.colab.kernel.accessAllowed ? 'block' : 'none';\n",
              "    })();\n",
              "  </script>\n",
              "</div>\n",
              "\n",
              "    </div>\n",
              "  </div>\n"
            ],
            "application/vnd.google.colaboratory.intrinsic+json": {
              "type": "dataframe",
              "variable_name": "df_order_items"
            }
          },
          "metadata": {},
          "execution_count": 57
        }
      ]
    },
    {
      "cell_type": "code",
      "source": [
        "# Llamar a la función para limpiar y analizar los datos\n",
        "df_order_items = limpiar_analizar_datos(df_order_items)"
      ],
      "metadata": {
        "colab": {
          "base_uri": "https://localhost:8080/"
        },
        "id": "PGssYZjZ-n49",
        "outputId": "953816aa-c4c5-46f4-8024-92e89e97f7c3"
      },
      "execution_count": 58,
      "outputs": [
        {
          "output_type": "stream",
          "name": "stdout",
          "text": [
            "Tamaño del DataFrame:\n",
            "(112650, 7)\n",
            "----------------------------------------\n",
            "Análisis de Tipos de Datos:\n",
            "<class 'pandas.core.frame.DataFrame'>\n",
            "RangeIndex: 112650 entries, 0 to 112649\n",
            "Data columns (total 7 columns):\n",
            " #   Column               Non-Null Count   Dtype  \n",
            "---  ------               --------------   -----  \n",
            " 0   order_id             112650 non-null  object \n",
            " 1   order_item_id        112650 non-null  int64  \n",
            " 2   product_id           112650 non-null  object \n",
            " 3   seller_id            112650 non-null  object \n",
            " 4   shipping_limit_date  112650 non-null  object \n",
            " 5   price                112650 non-null  float64\n",
            " 6   freight_value        112650 non-null  float64\n",
            "dtypes: float64(2), int64(1), object(4)\n",
            "memory usage: 6.0+ MB\n",
            "None\n",
            "----------------------------------------\n",
            "Recuento de Valores Nulos:\n",
            "order_id               0\n",
            "order_item_id          0\n",
            "product_id             0\n",
            "seller_id              0\n",
            "shipping_limit_date    0\n",
            "price                  0\n",
            "freight_value          0\n",
            "dtype: int64\n",
            "----------------------------------------\n",
            "Recuento de Valores Duplicados:\n",
            "0\n",
            "----------------------------------------\n",
            "Estadísticas Descriptivas:\n",
            "       order_item_id          price  freight_value\n",
            "count  112650.000000  112650.000000  112650.000000\n",
            "mean        1.197834     120.653739      19.990320\n",
            "std         0.705124     183.633928      15.806405\n",
            "min         1.000000       0.850000       0.000000\n",
            "25%         1.000000      39.900000      13.080000\n",
            "50%         1.000000      74.990000      16.260000\n",
            "75%         1.000000     134.900000      21.150000\n",
            "max        21.000000    6735.000000     409.680000\n",
            "----------------------------------------\n"
          ]
        }
      ]
    },
    {
      "cell_type": "markdown",
      "source": [
        "\n",
        "# TRANSFORMACION DE DATAFRAMES"
      ],
      "metadata": {
        "id": "Z4eKzMfD_o63"
      }
    },
    {
      "cell_type": "markdown",
      "source": [
        "## FUNCIONES\n"
      ],
      "metadata": {
        "id": "m5dj-G6FAN4R"
      }
    },
    {
      "cell_type": "code",
      "source": [
        "# Función para transformar fechas\n",
        "def transformarFechas(df, columnas_fechas):\n",
        "    df[columnas_fechas] = df[columnas_fechas].apply(pd.to_datetime)\n",
        "    return df"
      ],
      "metadata": {
        "id": "LA5cD63EAQUI"
      },
      "execution_count": 44,
      "outputs": []
    },
    {
      "cell_type": "code",
      "source": [
        "# Función para transformar columnas a tipo string\n",
        "def transformarString(df, columnas_string):\n",
        "    for columna in columnas_string:\n",
        "        df[columna] = df[columna].astype(\"string\")\n",
        "    return df"
      ],
      "metadata": {
        "id": "hd_rvnv1AWrw"
      },
      "execution_count": 45,
      "outputs": []
    },
    {
      "cell_type": "code",
      "source": [
        "# Función para convertir a mayúsculas\n",
        "def convertirMayusculas(df, columna):\n",
        "    df[columna] = df[columna].str.upper()\n",
        "    return df"
      ],
      "metadata": {
        "id": "pGYNhIpCAZCU"
      },
      "execution_count": 46,
      "outputs": []
    },
    {
      "cell_type": "code",
      "source": [
        "# Función para convertir a minúsculas\n",
        "def convertirMinusculas(df, columna):\n",
        "    df[columna] = df[columna].str.lower()\n",
        "    return df"
      ],
      "metadata": {
        "id": "SoSXuGt1AiVz"
      },
      "execution_count": 47,
      "outputs": []
    },
    {
      "cell_type": "markdown",
      "source": [
        "## ORDERS"
      ],
      "metadata": {
        "id": "FJP6lV26AtXB"
      }
    },
    {
      "cell_type": "code",
      "source": [
        "# Porcentaje de nulos en cada columna\n",
        "null_percentages_orders = (df_orders.isnull().sum() / len(df_orders)) * 100\n",
        "\n",
        "# Filtramos las columnas con menos del 10% de valores nulos\n",
        "columns_to_keep_orders = null_percentages_orders[null_percentages_orders <= 10].index\n",
        "\n",
        "# Eliminamos las filas con nulos solo en las columnas seleccionadas\n",
        "df_orders = df_orders.dropna(subset=columns_to_keep_orders).copy()\n",
        "\n",
        "# Lista de columnas que contienen fechas\n",
        "columnas_fechas_orders = ['order_purchase_timestamp', 'order_approved_at', 'order_delivered_carrier_date', 'order_delivered_customer_date', 'order_estimated_delivery_date']\n",
        "\n",
        "# Aplicamos nuestra funcion conversora de fechas\n",
        "df_orders = transformarFechas(df_orders, columnas_fechas_orders)\n",
        "\n",
        "# Lista de columnas a transformar en string\n",
        "columnas_string_orders = [\"order_id\",\"customer_id\",\"order_status\"]\n",
        "\n",
        "# Aplicamos nuestra funcion conversora de string\n",
        "df_orders = transformarString(df_orders, columnas_string_orders)\n",
        "\n",
        "# Revisamos que los tipos de datos sean correctos\n",
        "df_orders.info()\n",
        "\n",
        "# Aplicamos la conversion a minúsculas\n",
        "df_orders = convertirMinusculas(df_orders, \"order_status\")\n",
        "\n"
      ],
      "metadata": {
        "colab": {
          "base_uri": "https://localhost:8080/"
        },
        "id": "79fL8j_-BEXD",
        "outputId": "50cda7b7-1aa2-4d78-d77a-765342b61155"
      },
      "execution_count": 59,
      "outputs": [
        {
          "output_type": "stream",
          "name": "stdout",
          "text": [
            "<class 'pandas.core.frame.DataFrame'>\n",
            "Index: 96461 entries, 0 to 99440\n",
            "Data columns (total 8 columns):\n",
            " #   Column                         Non-Null Count  Dtype         \n",
            "---  ------                         --------------  -----         \n",
            " 0   order_id                       96461 non-null  string        \n",
            " 1   customer_id                    96461 non-null  string        \n",
            " 2   order_status                   96461 non-null  string        \n",
            " 3   order_purchase_timestamp       96461 non-null  datetime64[ns]\n",
            " 4   order_approved_at              96461 non-null  datetime64[ns]\n",
            " 5   order_delivered_carrier_date   96461 non-null  datetime64[ns]\n",
            " 6   order_delivered_customer_date  96461 non-null  datetime64[ns]\n",
            " 7   order_estimated_delivery_date  96461 non-null  datetime64[ns]\n",
            "dtypes: datetime64[ns](5), string(3)\n",
            "memory usage: 6.6 MB\n"
          ]
        }
      ]
    },
    {
      "cell_type": "markdown",
      "source": [
        "## PRODUCTS"
      ],
      "metadata": {
        "id": "1qdnJibmDfJ2"
      }
    },
    {
      "cell_type": "code",
      "source": [
        "# Porcentaje de nulos en cada columna\n",
        "null_percentages_products = (df_products.isnull().sum() / len(df_products)) * 100\n",
        "\n",
        "print(\"Porcentaje de nulos en cada columna:\")\n",
        "print(null_percentages_products)\n",
        "\n",
        "# Filtramos las columnas con menos del 10% de valores nulos\n",
        "columns_to_keep_products = null_percentages_products[null_percentages_products <= 10].index\n",
        "\n",
        "print(\"Columnas seleccionadas:\")\n",
        "print(columns_to_keep_products)\n",
        "\n",
        "# Eliminamos las filas con nulos solo en las columnas seleccionadas\n",
        "df_products.dropna(subset=columns_to_keep_products, inplace=True)\n",
        "\n",
        "# Chequeo cantidad de null\n",
        "print(\"Recuento de valores nulos después de la eliminación:\")\n",
        "print(df_products.isnull().sum())\n",
        "\n",
        "# Lista de columnas a transformar en string\n",
        "columnas_string_products = [\"product_id\", \"product_category_name\"]\n",
        "\n",
        "# Aplicamos nuestra función conversora de string\n",
        "df_products = transformarString(df_products, columnas_string_products)\n",
        "\n",
        "# Revisamos que los tipos de datos sean correctos\n",
        "print(\"Información del DataFrame después de la conversión:\")\n",
        "print(df_products.info())\n",
        "\n",
        "# Aplicamos la conversión a minúsculas\n",
        "df_products = convertirMinusculas(df_products, \"product_category_name\")\n",
        "\n"
      ],
      "metadata": {
        "colab": {
          "base_uri": "https://localhost:8080/"
        },
        "id": "e8OI5yUkDiSY",
        "outputId": "19f0e1fc-4be9-47b5-d39d-75a1dabd92e2"
      },
      "execution_count": 62,
      "outputs": [
        {
          "output_type": "stream",
          "name": "stdout",
          "text": [
            "Porcentaje de nulos en cada columna:\n",
            "product_id                    0.0\n",
            "product_category_name         0.0\n",
            "product_name_lenght           0.0\n",
            "product_description_lenght    0.0\n",
            "product_photos_qty            0.0\n",
            "product_weight_g              0.0\n",
            "product_length_cm             0.0\n",
            "product_height_cm             0.0\n",
            "product_width_cm              0.0\n",
            "dtype: float64\n",
            "Columnas seleccionadas:\n",
            "Index(['product_id', 'product_category_name', 'product_name_lenght',\n",
            "       'product_description_lenght', 'product_photos_qty', 'product_weight_g',\n",
            "       'product_length_cm', 'product_height_cm', 'product_width_cm'],\n",
            "      dtype='object')\n",
            "Recuento de valores nulos después de la eliminación:\n",
            "product_id                    0\n",
            "product_category_name         0\n",
            "product_name_lenght           0\n",
            "product_description_lenght    0\n",
            "product_photos_qty            0\n",
            "product_weight_g              0\n",
            "product_length_cm             0\n",
            "product_height_cm             0\n",
            "product_width_cm              0\n",
            "dtype: int64\n",
            "Información del DataFrame después de la conversión:\n",
            "<class 'pandas.core.frame.DataFrame'>\n",
            "Index: 32340 entries, 0 to 32950\n",
            "Data columns (total 9 columns):\n",
            " #   Column                      Non-Null Count  Dtype  \n",
            "---  ------                      --------------  -----  \n",
            " 0   product_id                  32340 non-null  string \n",
            " 1   product_category_name       32340 non-null  string \n",
            " 2   product_name_lenght         32340 non-null  float64\n",
            " 3   product_description_lenght  32340 non-null  float64\n",
            " 4   product_photos_qty          32340 non-null  float64\n",
            " 5   product_weight_g            32340 non-null  float64\n",
            " 6   product_length_cm           32340 non-null  float64\n",
            " 7   product_height_cm           32340 non-null  float64\n",
            " 8   product_width_cm            32340 non-null  float64\n",
            "dtypes: float64(7), string(2)\n",
            "memory usage: 2.5 MB\n",
            "None\n"
          ]
        }
      ]
    },
    {
      "cell_type": "markdown",
      "source": [
        "## CUSTOMERS"
      ],
      "metadata": {
        "id": "flHXIDthDokq"
      }
    },
    {
      "cell_type": "code",
      "source": [
        "# Lista de columnas a transformar en string\n",
        "columnas_string_customers = [\"customer_id\", \"customer_unique_id\", \"customer_zip_code_prefix\", \"customer_city\", \"customer_state\"]\n",
        "\n",
        "# Aplicamos nuestra función conversora de string\n",
        "df_customers = transformarString(df_customers, columnas_string_customers)\n",
        "\n",
        "# Revisamos que los tipos de datos sean correctos\n",
        "print(\"Información del DataFrame después de la conversión:\")\n",
        "print(df_customers.info())\n",
        "\n",
        "# Aplicamos la conversión a minúsculas\n",
        "df_customers = convertirMinusculas(df_customers, \"customer_city\")\n",
        "\n",
        "# Aplicamos la conversión a mayúsculas\n",
        "df_customers = convertirMayusculas(df_customers, \"customer_state\")\n"
      ],
      "metadata": {
        "colab": {
          "base_uri": "https://localhost:8080/"
        },
        "id": "nJX5I4nCEExO",
        "outputId": "d74ce050-eecd-4591-e4eb-0bebb0be770c"
      },
      "execution_count": 63,
      "outputs": [
        {
          "output_type": "stream",
          "name": "stdout",
          "text": [
            "Información del DataFrame después de la conversión:\n",
            "<class 'pandas.core.frame.DataFrame'>\n",
            "RangeIndex: 99441 entries, 0 to 99440\n",
            "Data columns (total 5 columns):\n",
            " #   Column                    Non-Null Count  Dtype \n",
            "---  ------                    --------------  ----- \n",
            " 0   customer_id               99441 non-null  string\n",
            " 1   customer_unique_id        99441 non-null  string\n",
            " 2   customer_zip_code_prefix  99441 non-null  string\n",
            " 3   customer_city             99441 non-null  string\n",
            " 4   customer_state            99441 non-null  string\n",
            "dtypes: string(5)\n",
            "memory usage: 3.8 MB\n",
            "None\n"
          ]
        }
      ]
    },
    {
      "cell_type": "markdown",
      "source": [
        "## PAYMENTS"
      ],
      "metadata": {
        "id": "8-xIQD_YEM7e"
      }
    },
    {
      "cell_type": "code",
      "source": [
        "# Lista de columnas a transformar en string\n",
        "columnas_string_order_payments = [\"order_id\", \"payment_type\"]\n",
        "\n",
        "# Aplicamos nuestra función conversora de string\n",
        "df_order_payments = transformarString(df_order_payments, columnas_string_order_payments)\n",
        "\n",
        "# Aplicamos la conversión a minúsculas\n",
        "df_order_payments = convertirMinusculas(df_order_payments, \"payment_type\")\n"
      ],
      "metadata": {
        "id": "3trbeV2MEYlx"
      },
      "execution_count": 64,
      "outputs": []
    },
    {
      "cell_type": "markdown",
      "source": [
        "## ORDER ITEMS"
      ],
      "metadata": {
        "id": "mt72QiLXC2mJ"
      }
    },
    {
      "cell_type": "code",
      "source": [
        "# Lista de columnas que contienen fechas\n",
        "columnas_fechas_order_items = ['shipping_limit_date']\n",
        "\n",
        "# Aplicamos nuestra función conversora de fechas\n",
        "df_order_items = transformarFechas(df_order_items, columnas_fechas_order_items)\n",
        "\n",
        "# Lista de columnas a transformar en string\n",
        "columnas_string_order_items = [\"order_id\", \"order_item_id\", \"product_id\", \"seller_id\", \"shipping_limit_date\"]\n",
        "\n",
        "# Aplicamos nuestra función conversora de string\n",
        "df_order_items = transformarString(df_order_items, columnas_string_order_items)\n"
      ],
      "metadata": {
        "id": "jXadf7D1DH2c"
      },
      "execution_count": 60,
      "outputs": []
    },
    {
      "cell_type": "markdown",
      "source": [
        "# ANALISIS"
      ],
      "metadata": {
        "id": "TzJ-ZWFfE6Hu"
      }
    },
    {
      "cell_type": "markdown",
      "source": [
        "Siguiendo con el analisis que hice al comienzo, se decide realizar esta funcion para proporcionar de manera rapida y sencilla informacion basica sobre los dataframes que se estuvieron trabajando.\n",
        "\n",
        "*   Selección de columnas numéricas y cualitativas: identifica las columnas numéricas y cualitativas en el DataFrame utilizando los métodos select_dtypes de Pandas. Esto permite un análisis separado de variables cuantitativas (como números enteros y flotantes) y cualitativas (como cadenas de texto).\n",
        "*   Análisis de variables cuantitativas: Si el DataFrame contiene columnas numéricas, la función imprime un resumen estadístico básico de esas columnas utilizando el método describe de Pandas. Esto proporciona información útil como el recuento de valores no nulos, la media, la desviación estándar, el valor mínimo, los percentiles y el valor máximo de cada columna numérica.\n",
        "*   Análisis de variables cualitativas: Si el DataFrame contiene columnas de tipo string u objeto, la función también imprime un resumen de esas columnas utilizando describe. Esto proporciona recuentos de valores únicos, el valor más frecuente (mode) y la frecuencia de ese valor, lo que puede ser útil para comprender la distribución de los datos cualitativos.\n",
        "*   Manejo de DataFrames vacíos: La función incluye una verificación para asegurarse de que haya columnas numéricas y/o cualitativas antes de intentar realizar los análisis correspondientes. Esto evita errores si el DataFrame no contiene ninguno de estos tipos de columnas."
      ],
      "metadata": {
        "id": "FGc-MoLYE9Gf"
      }
    },
    {
      "cell_type": "code",
      "source": [
        "def analisisDataFrames(df):\n",
        "    print(\"----------\")\n",
        "    print(\"Análisis variables cuantitativas\")\n",
        "    columnas_numericas = df.select_dtypes(include=['int', 'float']).columns\n",
        "    if not columnas_numericas.empty:\n",
        "        print(df[columnas_numericas].describe())\n",
        "    else:\n",
        "        print(\"No se encontraron variables cuantitativas en este DataFrame.\")\n",
        "\n",
        "    print(\"----------\")\n",
        "    print(\"Análisis variables cualitativas\")\n",
        "    columnas_string = df.select_dtypes(include=['string']).columns\n",
        "    if not columnas_string.empty:\n",
        "        print(df[columnas_string].describe())\n",
        "    else:\n",
        "        print(\"No se encontraron variables cualitativas en este DataFrame.\")\n"
      ],
      "metadata": {
        "id": "hPtKNrLbF81-"
      },
      "execution_count": 68,
      "outputs": []
    },
    {
      "cell_type": "markdown",
      "source": [
        "### ORDERS"
      ],
      "metadata": {
        "id": "vCF-MYmUGOgl"
      }
    },
    {
      "cell_type": "code",
      "source": [
        "#Aplicamos la función\n",
        "analisisDataFrames(df_orders)"
      ],
      "metadata": {
        "colab": {
          "base_uri": "https://localhost:8080/"
        },
        "id": "kUJZNkoJGww5",
        "outputId": "8a4e86a5-707e-42e7-bf4d-958ba23bf7c8"
      },
      "execution_count": 69,
      "outputs": [
        {
          "output_type": "stream",
          "name": "stdout",
          "text": [
            "----------\n",
            "Análisis variables cuantitativas\n",
            "No se encontraron variables cuantitativas en este DataFrame.\n",
            "----------\n",
            "Análisis variables cualitativas\n",
            "                                order_id                       customer_id  \\\n",
            "count                              96461                             96461   \n",
            "unique                             96461                             96461   \n",
            "top     e481f51cbdc54678b7cc49136f2d6af7  9ef432eb6251297304e76186b10a928d   \n",
            "freq                                   1                                 1   \n",
            "\n",
            "       order_status  \n",
            "count         96461  \n",
            "unique            2  \n",
            "top       delivered  \n",
            "freq          96455  \n"
          ]
        }
      ]
    },
    {
      "cell_type": "markdown",
      "source": [
        "#### Análisis de variables cualitativas:\n",
        "\n",
        "*   order_id: Hay un total de 96,461 registros únicos para los IDs de pedido.\n",
        "*   customer_id: También hay 96,461 registros únicos para los IDs de cliente.\n",
        "*   order_status: Este campo muestra que hay dos estados principales de pedidos: \"delivered\" (entregado) La mayoría de los pedidos, específicamente 96,455 de ellos, se encuentran en el estado \"delivered\"."
      ],
      "metadata": {
        "id": "29XDfAsKH-yB"
      }
    },
    {
      "cell_type": "markdown",
      "source": [
        "#### Observaciones:\n",
        "La mayoría de los pedidos están en el estado \"delivered\", lo que sugiere que la mayoría de los pedidos han sido entregados correctamente.\n",
        "Todos los IDs de pedido y de cliente son únicos, lo que indica que cada pedido y cliente tiene una identificación única en el conjunto de datos."
      ],
      "metadata": {
        "id": "DnLMxUXbGKCH"
      }
    },
    {
      "cell_type": "markdown",
      "source": [
        "## PRODUCTS"
      ],
      "metadata": {
        "id": "nEuKsQEOIq55"
      }
    },
    {
      "cell_type": "code",
      "source": [
        "#Aplicamos la función\n",
        "analisisDataFrames(df_products)"
      ],
      "metadata": {
        "colab": {
          "base_uri": "https://localhost:8080/"
        },
        "id": "9ctuAv-zIxsq",
        "outputId": "914efd8a-acb7-493e-9749-eea89a93b388"
      },
      "execution_count": 70,
      "outputs": [
        {
          "output_type": "stream",
          "name": "stdout",
          "text": [
            "----------\n",
            "Análisis variables cuantitativas\n",
            "       product_name_lenght  product_description_lenght  product_photos_qty  \\\n",
            "count         32340.000000                32340.000000        32340.000000   \n",
            "mean             48.476592                  771.492393            2.188961   \n",
            "std              10.245699                  635.124831            1.736787   \n",
            "min               5.000000                    4.000000            1.000000   \n",
            "25%              42.000000                  339.000000            1.000000   \n",
            "50%              51.000000                  595.000000            1.000000   \n",
            "75%              57.000000                  972.000000            3.000000   \n",
            "max              76.000000                 3992.000000           20.000000   \n",
            "\n",
            "       product_weight_g  product_length_cm  product_height_cm  \\\n",
            "count      32340.000000       32340.000000       32340.000000   \n",
            "mean        2276.956586          30.854545          16.958813   \n",
            "std         4279.291845          16.955965          13.636115   \n",
            "min            0.000000           7.000000           2.000000   \n",
            "25%          300.000000          18.000000           8.000000   \n",
            "50%          700.000000          25.000000          13.000000   \n",
            "75%         1900.000000          38.000000          21.000000   \n",
            "max        40425.000000         105.000000         105.000000   \n",
            "\n",
            "       product_width_cm  \n",
            "count      32340.000000  \n",
            "mean          23.208596  \n",
            "std           12.078762  \n",
            "min            6.000000  \n",
            "25%           15.000000  \n",
            "50%           20.000000  \n",
            "75%           30.000000  \n",
            "max          118.000000  \n",
            "----------\n",
            "Análisis variables cualitativas\n",
            "                              product_id product_category_name\n",
            "count                              32340                 32340\n",
            "unique                             32340                    73\n",
            "top     1e9e8ef04dbcff4541ed26657ea517e5       cama_mesa_banho\n",
            "freq                                   1                  3029\n"
          ]
        }
      ]
    },
    {
      "cell_type": "markdown",
      "source": [
        "#### Análisis de variables cuantitativas:\n",
        "*   product_photos_qty: En promedio, los productos tienen alrededor de 2.19 fotos, con un mínimo de 1 y un máximo de 20.\n",
        "*   product_weight_g: El peso promedio de los productos es aproximadamente 2276.96 gramos, con un mínimo de 0 y un máximo de 40425.\n",
        "\n",
        "\n",
        "\n",
        "\n"
      ],
      "metadata": {
        "id": "Lf8vSyZ1I4gK"
      }
    },
    {
      "cell_type": "markdown",
      "source": [
        "#### Análisis de variables cualitativas:\n",
        "*   product_id: Hay un total de 32,340 registros únicos para los IDs de producto.\n",
        "*   product_category_name: Hay un total de 73 categorías únicas de productos.\n",
        "\n"
      ],
      "metadata": {
        "id": "oDMGLX19JI6_"
      }
    },
    {
      "cell_type": "markdown",
      "source": [
        "#### Observaciones:\n",
        "*   La mayoría de las variables cuantitativas tienen un rango bastante amplio, lo que sugiere que hay una gran variabilidad en las características físicas de los productos.\n",
        "*   Se podría profundizar más en el análisis de la distribución de las categorías de productos para comprender mejor la composición del inventario.\n",
        "\n"
      ],
      "metadata": {
        "id": "tJ5Mu4aoJRxl"
      }
    },
    {
      "cell_type": "code",
      "source": [
        "#Analizamos las categorias\n",
        "df_products[\"product_category_name\"].value_counts()"
      ],
      "metadata": {
        "colab": {
          "base_uri": "https://localhost:8080/"
        },
        "id": "5UUoZjc-Jc6W",
        "outputId": "6cc4b995-21de-4039-99f8-24a2f8dcc6e3"
      },
      "execution_count": 71,
      "outputs": [
        {
          "output_type": "execute_result",
          "data": {
            "text/plain": [
              "product_category_name\n",
              "cama_mesa_banho                  3029\n",
              "esporte_lazer                    2867\n",
              "moveis_decoracao                 2657\n",
              "beleza_saude                     2444\n",
              "utilidades_domesticas            2335\n",
              "                                 ... \n",
              "fashion_roupa_infanto_juvenil       5\n",
              "casa_conforto_2                     5\n",
              "pc_gamer                            3\n",
              "seguros_e_servicos                  2\n",
              "cds_dvds_musicais                   1\n",
              "Name: count, Length: 73, dtype: Int64"
            ]
          },
          "metadata": {},
          "execution_count": 71
        }
      ]
    },
    {
      "cell_type": "markdown",
      "source": [
        "\n",
        "1.   Productos para el hogar dominantes: Las categorías relacionadas con el hogar, como \"cama_mesa_banho\" y \"utilidades_domesticas\", son las más populares, lo que sugiere una alta demanda de artículos para el hogar.\n",
        "2.   Efecto de las imágenes: Se observa que la mayoría de los productos tienen una sola foto en la descripción, lo que podría indicar que una sola imagen es suficiente para atraer a los compradores. 3.   Variedad de categorías: Aunque las categorías relacionadas con el hogar dominan el conjunto de datos, también se observa una amplia variedad de categorías,"
      ],
      "metadata": {
        "id": "UCStvRVFKP9e"
      }
    },
    {
      "cell_type": "markdown",
      "source": [
        "## ORDERS ITEMS"
      ],
      "metadata": {
        "id": "v6L8oPw1KlJb"
      }
    },
    {
      "cell_type": "code",
      "source": [
        "#Aplicamos la función\n",
        "analisisDataFrames(df_order_items)"
      ],
      "metadata": {
        "colab": {
          "base_uri": "https://localhost:8080/"
        },
        "id": "vlCOBg-sK0Ql",
        "outputId": "fbfae88f-0bd0-46f7-a47a-bf9da413e6b7"
      },
      "execution_count": 72,
      "outputs": [
        {
          "output_type": "stream",
          "name": "stdout",
          "text": [
            "----------\n",
            "Análisis variables cuantitativas\n",
            "               price  freight_value\n",
            "count  112650.000000  112650.000000\n",
            "mean      120.653739      19.990320\n",
            "std       183.633928      15.806405\n",
            "min         0.850000       0.000000\n",
            "25%        39.900000      13.080000\n",
            "50%        74.990000      16.260000\n",
            "75%       134.900000      21.150000\n",
            "max      6735.000000     409.680000\n",
            "----------\n",
            "Análisis variables cualitativas\n",
            "                                order_id order_item_id  \\\n",
            "count                             112650        112650   \n",
            "unique                             98666            21   \n",
            "top     8272b63d03f5f79c56e9e4120aec44ef             1   \n",
            "freq                                  21         98666   \n",
            "\n",
            "                              product_id                         seller_id  \\\n",
            "count                             112650                            112650   \n",
            "unique                             32951                              3095   \n",
            "top     aca2eb7d00ea1a7b8ebd4e68314663af  6560211a19b47992c3666cc44a7e94c0   \n",
            "freq                                 527                              2033   \n",
            "\n",
            "        shipping_limit_date  \n",
            "count                112650  \n",
            "unique                93318  \n",
            "top     2017-07-21 18:25:23  \n",
            "freq                     21  \n"
          ]
        }
      ]
    },
    {
      "cell_type": "markdown",
      "source": [
        "#### Análisis de variables cuantitativas:\n",
        "*   Precio (price): El precio medio de los productos es de aproximadamente 120.65 unidades monetarias, con un rango que va desde 0.85 hasta 6735 unidades. La dispersión de los datos es alta, como lo indica la desviación estándar de 183.63.\n",
        "*   Valor del flete (freight_value): El valor medio del flete es de aproximadamente 19.99 unidades monetarias, con un rango que va desde 0 hasta 409.68 unidades. La desviación estándar de 15.81 indica una dispersión moderada de los datos.\n",
        "\n",
        "\n",
        "\n",
        "\n"
      ],
      "metadata": {
        "id": "UM4zn9FjLAEU"
      }
    },
    {
      "cell_type": "markdown",
      "source": [
        "#### Análisis de variables cualitativas:\n",
        "*   ID del artículo del pedido (order_item_id): La mayoría de los pedidos (aproximadamente el 87.6%) contienen un solo artículo, lo que sugiere que la mayoría de los clientes realizan compras de productos individuales.\n",
        "*   Fecha límite de envío (shipping_limit_date): La fecha límite de envío más común es el 21 de julio de 2017, que aparece en 21 pedidos. Esto sugiere que podría haber habido algún evento promocional o campaña de marketing durante ese período que generó un aumento en las ventas.\n",
        "\n"
      ],
      "metadata": {
        "id": "kl45szYpLUKh"
      }
    },
    {
      "cell_type": "markdown",
      "source": [
        "#### Observaciones\n",
        "*   La mayoría de los pedidos (87.6%) consisten en un solo artículo. Esto sugiere que la mayoría de los clientes realizan compras individuales en lugar de pedidos múltiples.\n",
        "\n",
        "\n",
        "\n"
      ],
      "metadata": {
        "id": "TLQjb_dDLh1O"
      }
    },
    {
      "cell_type": "markdown",
      "source": [
        "## CUSTOMERS\n"
      ],
      "metadata": {
        "id": "dIcm7B87KwuA"
      }
    },
    {
      "cell_type": "code",
      "source": [
        "#Aplicamos la función\n",
        "analisisDataFrames(df_customers)"
      ],
      "metadata": {
        "colab": {
          "base_uri": "https://localhost:8080/"
        },
        "id": "N3znfAUsL62Z",
        "outputId": "93100b10-ac78-48bf-9772-eff08472d723"
      },
      "execution_count": 73,
      "outputs": [
        {
          "output_type": "stream",
          "name": "stdout",
          "text": [
            "----------\n",
            "Análisis variables cuantitativas\n",
            "No se encontraron variables cuantitativas en este DataFrame.\n",
            "----------\n",
            "Análisis variables cualitativas\n",
            "                             customer_id                customer_unique_id  \\\n",
            "count                              99441                             99441   \n",
            "unique                             99441                             96096   \n",
            "top     06b8999e2fba1a1fbc88172c00ba8bc7  8d50f5eadf50201ccdcedfb9e2ac8455   \n",
            "freq                                   1                                17   \n",
            "\n",
            "       customer_zip_code_prefix customer_city customer_state  \n",
            "count                     99441         99441          99441  \n",
            "unique                    14994          4119             27  \n",
            "top                       22790     sao paulo             SP  \n",
            "freq                        142         15540          41746  \n"
          ]
        }
      ]
    },
    {
      "cell_type": "markdown",
      "source": [
        "#### Análisis de variables cualitativas:\n",
        "*   customer_zip_code_prefix: Hay 14,994 códigos postales únicos en el conjunto de datos, lo que sugiere una variedad de ubicaciones geográficas para los clientes.\n",
        "*   customer_city: Se registran 4,119 ciudades únicas en el conjunto de datos, lo que indica la diversidad de áreas urbanas y rurales donde residen los clientes.\n",
        "\n"
      ],
      "metadata": {
        "id": "LpVHOhejMNO7"
      }
    },
    {
      "cell_type": "code",
      "source": [
        "#Realizamos un analisis por regiones de los compradores\n",
        "df_customers[\"customer_state\"].value_counts()"
      ],
      "metadata": {
        "colab": {
          "base_uri": "https://localhost:8080/"
        },
        "id": "5XE5LmlrMapc",
        "outputId": "bf2e0366-c5c1-4888-b3b8-0b4b081acea3"
      },
      "execution_count": 74,
      "outputs": [
        {
          "output_type": "execute_result",
          "data": {
            "text/plain": [
              "customer_state\n",
              "SP    41746\n",
              "RJ    12852\n",
              "MG    11635\n",
              "RS     5466\n",
              "PR     5045\n",
              "SC     3637\n",
              "BA     3380\n",
              "DF     2140\n",
              "ES     2033\n",
              "GO     2020\n",
              "PE     1652\n",
              "CE     1336\n",
              "PA      975\n",
              "MT      907\n",
              "MA      747\n",
              "MS      715\n",
              "PB      536\n",
              "PI      495\n",
              "RN      485\n",
              "AL      413\n",
              "SE      350\n",
              "TO      280\n",
              "RO      253\n",
              "AM      148\n",
              "AC       81\n",
              "AP       68\n",
              "RR       46\n",
              "Name: count, dtype: Int64"
            ]
          },
          "metadata": {},
          "execution_count": 74
        }
      ]
    },
    {
      "cell_type": "markdown",
      "source": [
        "Podemos observar que el estado de São Paulo (SP) tiene la mayor cantidad de compradores, seguido de Río de Janeiro (RJ) y Minas Gerais (MG)."
      ],
      "metadata": {
        "id": "5_59FzasMgl8"
      }
    },
    {
      "cell_type": "markdown",
      "source": [
        "## PAYMENTS"
      ],
      "metadata": {
        "id": "-DK-9-vNMnnk"
      }
    },
    {
      "cell_type": "code",
      "source": [
        "#Aplicamos la función\n",
        "analisisDataFrames(df_order_payments)"
      ],
      "metadata": {
        "colab": {
          "base_uri": "https://localhost:8080/"
        },
        "id": "4HZ0bB83MvQ5",
        "outputId": "b3ec0fa8-4804-47c4-945d-aa7650c7a6d3"
      },
      "execution_count": 75,
      "outputs": [
        {
          "output_type": "stream",
          "name": "stdout",
          "text": [
            "----------\n",
            "Análisis variables cuantitativas\n",
            "       payment_sequential  payment_installments  payment_value\n",
            "count       103886.000000         103886.000000  103886.000000\n",
            "mean             1.092679              2.853349     154.100380\n",
            "std              0.706584              2.687051     217.494064\n",
            "min              1.000000              0.000000       0.000000\n",
            "25%              1.000000              1.000000      56.790000\n",
            "50%              1.000000              1.000000     100.000000\n",
            "75%              1.000000              4.000000     171.837500\n",
            "max             29.000000             24.000000   13664.080000\n",
            "----------\n",
            "Análisis variables cualitativas\n",
            "                                order_id payment_type\n",
            "count                             103886       103886\n",
            "unique                             99440            5\n",
            "top     fa65dad1b0e818e3ccc5cb0e39231352  credit_card\n",
            "freq                                  29        76795\n"
          ]
        }
      ]
    },
    {
      "cell_type": "markdown",
      "source": [
        "#### Analisis de variables cuantitativas:\n",
        "*   payment_installments: La mayoría de los pagos se realizan en un solo pago. Sin embargo, el número máximo de cuotas es de 24, lo que sugiere que algunos clientes optan por pagar en múltiples cuotas.\n",
        "\n",
        "\n"
      ],
      "metadata": {
        "id": "_jQpxHkZM3dc"
      }
    },
    {
      "cell_type": "markdown",
      "source": [
        "#### Analisis de variables cualitativas:\n",
        "*   payment_type: El método de pago más común es mediante tarjeta de crédito, seguido por boleto bancario, voucher de regalo, debit card y transferencia bancaria.\n",
        "\n",
        "\n"
      ],
      "metadata": {
        "id": "6LSEcmG-NIXO"
      }
    },
    {
      "cell_type": "markdown",
      "source": [
        "# Nuevos DATAFRAMES"
      ],
      "metadata": {
        "id": "p_2NcnQ_NhaK"
      }
    },
    {
      "cell_type": "markdown",
      "source": [
        "Para generar los nuevos DataFrames, primero realizamos un proceso de fusión (merge) entre los conjuntos de datos originales."
      ],
      "metadata": {
        "id": "HzPER6OXN45J"
      }
    },
    {
      "cell_type": "code",
      "source": [
        "directorio_actual = os.getcwd()\n",
        "\n",
        "print(\"El directorio actual es:\", directorio_actual)"
      ],
      "metadata": {
        "colab": {
          "base_uri": "https://localhost:8080/"
        },
        "id": "kHmDtNibOuRD",
        "outputId": "26d0cb10-3ea3-41c8-ec2b-3dc5ab3d980f"
      },
      "execution_count": 76,
      "outputs": [
        {
          "output_type": "stream",
          "name": "stdout",
          "text": [
            "El directorio actual es: /content\n"
          ]
        }
      ]
    },
    {
      "cell_type": "code",
      "source": [
        "# Crear la carpeta 'dataset_generados' si no existe\n",
        "if not os.path.exists('dataset_generados'):\n",
        "    os.makedirs('dataset_generados')"
      ],
      "metadata": {
        "id": "VhSDJ1B-OT5K"
      },
      "execution_count": 77,
      "outputs": []
    },
    {
      "cell_type": "code",
      "source": [
        "# Fusionar el DataFrame de Órdenes y Pagos\n",
        "df_merge_orders_payments = pd.merge(df_orders, df_order_payments, how=\"inner\", on=\"order_id\")\n",
        "\n",
        "# Simplificar la información\n",
        "df_merge_orders_payments.drop(['customer_id', 'order_approved_at', 'order_delivered_carrier_date',\n",
        "                               'order_delivered_customer_date', 'order_estimated_delivery_date'],\n",
        "                              axis=1, inplace=True)\n",
        "\n",
        "# Exportar como CSV\n",
        "df_merge_orders_payments.to_csv(\"dataset_generados/orders_payments.csv\", index=False)\n"
      ],
      "metadata": {
        "id": "JmnnrJOZO5JF"
      },
      "execution_count": 78,
      "outputs": []
    },
    {
      "cell_type": "code",
      "source": [
        "# Fusionar el DataFrame de Ítems de Orden y Productos\n",
        "df_merge_order_items_products = pd.merge(df_order_items, df_products, how=\"inner\", on=\"product_id\")\n",
        "\n",
        "# Simplificar la información\n",
        "df_merge_order_items_products.drop(['product_id', 'seller_id', 'shipping_limit_date'],\n",
        "                                    axis=1, inplace=True)\n",
        "\n",
        "# Exportar como CSV\n",
        "df_merge_order_items_products.to_csv(\"dataset_generados/order_items_products.csv\", index=False)"
      ],
      "metadata": {
        "id": "0RBdC3XDO7zt"
      },
      "execution_count": 79,
      "outputs": []
    },
    {
      "cell_type": "markdown",
      "source": [
        "## ANALISIS Y FUSION DE DATAFRAMES"
      ],
      "metadata": {
        "id": "Ec2S01lNN9yG"
      }
    },
    {
      "cell_type": "markdown",
      "source": [
        "La fusión de los DataFrames se realiza para combinar la información relevante de diferentes conjuntos de datos en un solo DataFrame, lo que facilita el análisis conjunto y la generación de informes. Por ejemplo:\n",
        "\n",
        "\n",
        "\n",
        "*   Al fusionar el DataFrame de Órdenes con el de Pagos, obtenemos un conjunto de datos que incluye información sobre las órdenes y los pagos asociados, lo que nos permite analizar el comportamiento de compra de los clientes y los patrones de pago.\n",
        "*   Al fusionar el DataFrame de Ítems de Orden con el de Productos, creamos un conjunto de datos que contiene detalles sobre los productos comprados en cada orden, lo que nos permite analizar las ventas de productos y las preferencias de los clientes."
      ],
      "metadata": {
        "id": "AwABVRoIOCwg"
      }
    }
  ]
}